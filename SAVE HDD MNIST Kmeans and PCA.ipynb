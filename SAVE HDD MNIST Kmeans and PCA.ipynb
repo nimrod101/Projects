{
 "cells": [
  {
   "cell_type": "markdown",
   "metadata": {},
   "source": [
    "### Preprocessing"
   ]
  },
  {
   "cell_type": "code",
   "execution_count": 1,
   "metadata": {},
   "outputs": [],
   "source": [
    "# importing the relevant libraries\n",
    "import pandas as pd\n",
    "import numpy as np\n",
    "import matplotlib.pyplot as plt\n",
    "import pandas as pd\n",
    "from sklearn.neighbors import KNeighborsClassifier\n",
    "from sklearn.svm import SVC\n",
    "import sklearn\n",
    "from scipy.linalg import svd\n",
    "from sklearn.preprocessing import StandardScaler\n",
    "from scipy.linalg import eigh\n",
    "from sklearn.metrics import classification_report, confusion_matrix\n"
   ]
  },
  {
   "cell_type": "code",
   "execution_count": 2,
   "metadata": {},
   "outputs": [],
   "source": [
    "# loadind the data \n",
    "d1 = pd.read_csv('mnist_train.csv', header = None)"
   ]
  },
  {
   "cell_type": "code",
   "execution_count": 3,
   "metadata": {},
   "outputs": [
    {
     "data": {
      "text/plain": [
       "(6000, 785)"
      ]
     },
     "execution_count": 3,
     "metadata": {},
     "output_type": "execute_result"
    }
   ],
   "source": [
    "d1.shape"
   ]
  },
  {
   "cell_type": "code",
   "execution_count": 4,
   "metadata": {},
   "outputs": [
    {
     "data": {
      "text/html": [
       "<div>\n",
       "<style scoped>\n",
       "    .dataframe tbody tr th:only-of-type {\n",
       "        vertical-align: middle;\n",
       "    }\n",
       "\n",
       "    .dataframe tbody tr th {\n",
       "        vertical-align: top;\n",
       "    }\n",
       "\n",
       "    .dataframe thead th {\n",
       "        text-align: right;\n",
       "    }\n",
       "</style>\n",
       "<table border=\"1\" class=\"dataframe\">\n",
       "  <thead>\n",
       "    <tr style=\"text-align: right;\">\n",
       "      <th></th>\n",
       "      <th>0</th>\n",
       "      <th>1</th>\n",
       "      <th>2</th>\n",
       "      <th>3</th>\n",
       "      <th>4</th>\n",
       "      <th>5</th>\n",
       "      <th>6</th>\n",
       "      <th>7</th>\n",
       "      <th>8</th>\n",
       "      <th>9</th>\n",
       "      <th>...</th>\n",
       "      <th>775</th>\n",
       "      <th>776</th>\n",
       "      <th>777</th>\n",
       "      <th>778</th>\n",
       "      <th>779</th>\n",
       "      <th>780</th>\n",
       "      <th>781</th>\n",
       "      <th>782</th>\n",
       "      <th>783</th>\n",
       "      <th>784</th>\n",
       "    </tr>\n",
       "  </thead>\n",
       "  <tbody>\n",
       "    <tr>\n",
       "      <th>0</th>\n",
       "      <td>5.0</td>\n",
       "      <td>0.0</td>\n",
       "      <td>0.0</td>\n",
       "      <td>0.0</td>\n",
       "      <td>0.0</td>\n",
       "      <td>0.0</td>\n",
       "      <td>0.0</td>\n",
       "      <td>0.0</td>\n",
       "      <td>0.0</td>\n",
       "      <td>0.0</td>\n",
       "      <td>...</td>\n",
       "      <td>0.0</td>\n",
       "      <td>0.0</td>\n",
       "      <td>0.0</td>\n",
       "      <td>0.0</td>\n",
       "      <td>0.0</td>\n",
       "      <td>0.0</td>\n",
       "      <td>0.0</td>\n",
       "      <td>0.0</td>\n",
       "      <td>0.0</td>\n",
       "      <td>0.0</td>\n",
       "    </tr>\n",
       "    <tr>\n",
       "      <th>1</th>\n",
       "      <td>0.0</td>\n",
       "      <td>0.0</td>\n",
       "      <td>0.0</td>\n",
       "      <td>0.0</td>\n",
       "      <td>0.0</td>\n",
       "      <td>0.0</td>\n",
       "      <td>0.0</td>\n",
       "      <td>0.0</td>\n",
       "      <td>0.0</td>\n",
       "      <td>0.0</td>\n",
       "      <td>...</td>\n",
       "      <td>0.0</td>\n",
       "      <td>0.0</td>\n",
       "      <td>0.0</td>\n",
       "      <td>0.0</td>\n",
       "      <td>0.0</td>\n",
       "      <td>0.0</td>\n",
       "      <td>0.0</td>\n",
       "      <td>0.0</td>\n",
       "      <td>0.0</td>\n",
       "      <td>0.0</td>\n",
       "    </tr>\n",
       "    <tr>\n",
       "      <th>2</th>\n",
       "      <td>4.0</td>\n",
       "      <td>0.0</td>\n",
       "      <td>0.0</td>\n",
       "      <td>0.0</td>\n",
       "      <td>0.0</td>\n",
       "      <td>0.0</td>\n",
       "      <td>0.0</td>\n",
       "      <td>0.0</td>\n",
       "      <td>0.0</td>\n",
       "      <td>0.0</td>\n",
       "      <td>...</td>\n",
       "      <td>0.0</td>\n",
       "      <td>0.0</td>\n",
       "      <td>0.0</td>\n",
       "      <td>0.0</td>\n",
       "      <td>0.0</td>\n",
       "      <td>0.0</td>\n",
       "      <td>0.0</td>\n",
       "      <td>0.0</td>\n",
       "      <td>0.0</td>\n",
       "      <td>0.0</td>\n",
       "    </tr>\n",
       "    <tr>\n",
       "      <th>3</th>\n",
       "      <td>1.0</td>\n",
       "      <td>0.0</td>\n",
       "      <td>0.0</td>\n",
       "      <td>0.0</td>\n",
       "      <td>0.0</td>\n",
       "      <td>0.0</td>\n",
       "      <td>0.0</td>\n",
       "      <td>0.0</td>\n",
       "      <td>0.0</td>\n",
       "      <td>0.0</td>\n",
       "      <td>...</td>\n",
       "      <td>0.0</td>\n",
       "      <td>0.0</td>\n",
       "      <td>0.0</td>\n",
       "      <td>0.0</td>\n",
       "      <td>0.0</td>\n",
       "      <td>0.0</td>\n",
       "      <td>0.0</td>\n",
       "      <td>0.0</td>\n",
       "      <td>0.0</td>\n",
       "      <td>0.0</td>\n",
       "    </tr>\n",
       "    <tr>\n",
       "      <th>4</th>\n",
       "      <td>9.0</td>\n",
       "      <td>0.0</td>\n",
       "      <td>0.0</td>\n",
       "      <td>0.0</td>\n",
       "      <td>0.0</td>\n",
       "      <td>0.0</td>\n",
       "      <td>0.0</td>\n",
       "      <td>0.0</td>\n",
       "      <td>0.0</td>\n",
       "      <td>0.0</td>\n",
       "      <td>...</td>\n",
       "      <td>0.0</td>\n",
       "      <td>0.0</td>\n",
       "      <td>0.0</td>\n",
       "      <td>0.0</td>\n",
       "      <td>0.0</td>\n",
       "      <td>0.0</td>\n",
       "      <td>0.0</td>\n",
       "      <td>0.0</td>\n",
       "      <td>0.0</td>\n",
       "      <td>0.0</td>\n",
       "    </tr>\n",
       "  </tbody>\n",
       "</table>\n",
       "<p>5 rows × 785 columns</p>\n",
       "</div>"
      ],
      "text/plain": [
       "   0    1    2    3    4    5    6    7    8    9    ...  775  776  777  778  \\\n",
       "0  5.0  0.0  0.0  0.0  0.0  0.0  0.0  0.0  0.0  0.0  ...  0.0  0.0  0.0  0.0   \n",
       "1  0.0  0.0  0.0  0.0  0.0  0.0  0.0  0.0  0.0  0.0  ...  0.0  0.0  0.0  0.0   \n",
       "2  4.0  0.0  0.0  0.0  0.0  0.0  0.0  0.0  0.0  0.0  ...  0.0  0.0  0.0  0.0   \n",
       "3  1.0  0.0  0.0  0.0  0.0  0.0  0.0  0.0  0.0  0.0  ...  0.0  0.0  0.0  0.0   \n",
       "4  9.0  0.0  0.0  0.0  0.0  0.0  0.0  0.0  0.0  0.0  ...  0.0  0.0  0.0  0.0   \n",
       "\n",
       "   779  780  781  782  783  784  \n",
       "0  0.0  0.0  0.0  0.0  0.0  0.0  \n",
       "1  0.0  0.0  0.0  0.0  0.0  0.0  \n",
       "2  0.0  0.0  0.0  0.0  0.0  0.0  \n",
       "3  0.0  0.0  0.0  0.0  0.0  0.0  \n",
       "4  0.0  0.0  0.0  0.0  0.0  0.0  \n",
       "\n",
       "[5 rows x 785 columns]"
      ]
     },
     "execution_count": 4,
     "metadata": {},
     "output_type": "execute_result"
    }
   ],
   "source": [
    "# print the first 5 rows to know that thae dataset has been read\n",
    "d1.head(5)"
   ]
  },
  {
   "cell_type": "code",
   "execution_count": 5,
   "metadata": {},
   "outputs": [
    {
     "name": "stdout",
     "output_type": "stream",
     "text": [
      "(6000,)\n"
     ]
    }
   ],
   "source": [
    "# get the lables\n",
    "l = d1.iloc[:,0]\n",
    "print(l.shape)"
   ]
  },
  {
   "cell_type": "code",
   "execution_count": 6,
   "metadata": {},
   "outputs": [],
   "source": [
    "# get the features\n",
    "d2 = d1.iloc[:,1:]"
   ]
  },
  {
   "cell_type": "code",
   "execution_count": 7,
   "metadata": {},
   "outputs": [
    {
     "data": {
      "text/plain": [
       "(6000, 784)"
      ]
     },
     "execution_count": 7,
     "metadata": {},
     "output_type": "execute_result"
    }
   ],
   "source": [
    "d2.shape"
   ]
  },
  {
   "cell_type": "code",
   "execution_count": 8,
   "metadata": {},
   "outputs": [
    {
     "data": {
      "image/png": "[encoded data removed]",
      "text/plain": [
       "<Figure size 504x504 with 1 Axes>"
      ]
     },
     "metadata": {
      "needs_background": "light"
     },
     "output_type": "display_data"
    },
    {
     "name": "stdout",
     "output_type": "stream",
     "text": [
      "2.0\n"
     ]
    }
   ],
   "source": [
    "# printing an image to see that the data set has been loaded\n",
    "plt.figure(figsize=(7,7))\n",
    "# set the index value this can be changet\n",
    "index = 120\n",
    "# plot the image as 28*28 pixel image\n",
    "# Reshaping 1d to a 2d arryay\n",
    "show_image= d2.iloc[index].to_numpy().reshape(28,28)  \n",
    "# plot the image as a gray mapping and set the parameters\n",
    "plt.imshow(show_image, interpolation = \"none\", cmap = \"gray\")\n",
    "# print the image\n",
    "plt.show()\n",
    "print(l[index])"
   ]
  },
  {
   "cell_type": "markdown",
   "metadata": {},
   "source": [
    "## Task 1\n",
    "Write code for learning PCA parameters, i.e., mean vector and project matrix from the training data"
   ]
  },
  {
   "cell_type": "markdown",
   "metadata": {},
   "source": [
    "#### Step 1 : Standardize the data"
   ]
  },
  {
   "cell_type": "code",
   "execution_count": 9,
   "metadata": {},
   "outputs": [],
   "source": [
    "# seperating the lables and features\n",
    "# get the lables \n",
    "labels = l\n",
    "# get the features\n",
    "data = d2"
   ]
  },
  {
   "cell_type": "code",
   "execution_count": 10,
   "metadata": {},
   "outputs": [
    {
     "name": "stdout",
     "output_type": "stream",
     "text": [
      "Shape of the Sample Data is =  (6000, 784)\n"
     ]
    }
   ],
   "source": [
    "# get the shape of the data set lables have been seperated.\n",
    "print(\"Shape of the Sample Data is = \", data.shape)"
   ]
  },
  {
   "cell_type": "code",
   "execution_count": 11,
   "metadata": {},
   "outputs": [
    {
     "name": "stdout",
     "output_type": "stream",
     "text": [
      "(6000, 784)\n"
     ]
    }
   ],
   "source": [
    "# standardize the  data mean is 0 and std is 1\n",
    "standard_data = StandardScaler().fit_transform(data)\n",
    "print(standard_data.shape)"
   ]
  },
  {
   "cell_type": "code",
   "execution_count": 12,
   "metadata": {},
   "outputs": [],
   "source": [
    "# get the training and testing data\n",
    "data_train = pd.read_csv('mnist_train.csv',header=None)\n",
    "data_test = pd.read_csv('mnist_test.csv',header=None)"
   ]
  },
  {
   "cell_type": "code",
   "execution_count": 13,
   "metadata": {},
   "outputs": [],
   "source": [
    "# get the features and lables from training and testing data\n",
    "# training lables\n",
    "train_y = data_train.iloc[:,0].values\n",
    "# testing lables\n",
    "test_y = data_test.iloc[:,0].values\n",
    "# training features\n",
    "train_x = data_train.iloc[:,1:].values\n",
    "# testing features\n",
    "test_x = data_test.iloc[:,1:].values"
   ]
  },
  {
   "cell_type": "markdown",
   "metadata": {},
   "source": [
    "#### Step 2 :  Calculate Covariance Matrix"
   ]
  },
  {
   "cell_type": "code",
   "execution_count": 14,
   "metadata": {},
   "outputs": [
    {
     "name": "stdout",
     "output_type": "stream",
     "text": [
      "The shape of co-variance matrix =  (784, 784)\n"
     ]
    }
   ],
   "source": [
    "# calculate covariance\n",
    "# Formula : a(transpose)*a for a matrix a\n",
    "sample_data = standard_data\n",
    "\n",
    "# use matmul to do matrix multiplication\n",
    "cov_mat = np.matmul(sample_data.T , sample_data)\n",
    "\n",
    "print ( \"The shape of co-variance matrix = \", cov_mat.shape)"
   ]
  },
  {
   "cell_type": "markdown",
   "metadata": {},
   "source": [
    "#### Step 3 : Find Eigen values and vectors"
   ]
  },
  {
   "cell_type": "code",
   "execution_count": 15,
   "metadata": {},
   "outputs": [
    {
     "name": "stdout",
     "output_type": "stream",
     "text": [
      "Dimention of eigen vector =  (784, 2)\n",
      "Updated dimention of eigen vector =  (2, 784)\n"
     ]
    }
   ],
   "source": [
    "# find eigen values and vectors\n",
    "# use the top 2 igen values (782 and 783)\n",
    "eig_val, eig_vec = eigh(cov_mat, eigvals=(782,783)) #eigh return values in ascending order.\n",
    "print(\"Dimention of eigen vector = \",eig_vec.shape)\n",
    "# Convert eigen vectors toa 2D shape\n",
    "eig_vec = eig_vec.T\n",
    "# print updated shape\n",
    "print(\"Updated dimention of eigen vector = \",eig_vec.shape)"
   ]
  },
  {
   "cell_type": "markdown",
   "metadata": {},
   "source": [
    "#### Step 4 : Find Projection Matrix"
   ]
  },
  {
   "cell_type": "code",
   "execution_count": 16,
   "metadata": {},
   "outputs": [
    {
     "name": "stdout",
     "output_type": "stream",
     "text": [
      " The new Projected Matrix Shape is   (2, 784) X (784, 6000)  =  (2, 6000)\n"
     ]
    }
   ],
   "source": [
    "# projection matrix\n",
    "matrix_new = np.matmul(eig_vec, sample_data.T)\n",
    "print (\" The new Projected Matrix Shape is  \", eig_vec.shape, \"X\", sample_data.T.shape,\" = \", matrix_new.shape)"
   ]
  },
  {
   "cell_type": "markdown",
   "metadata": {},
   "source": [
    "#### Step 5 : Get the principal Components:"
   ]
  },
  {
   "cell_type": "code",
   "execution_count": 17,
   "metadata": {},
   "outputs": [
    {
     "name": "stdout",
     "output_type": "stream",
     "text": [
      "   1st Principal Comp  2nd Principal comp  Labels\n",
      "0           -4.728607           -0.923623     5.0\n",
      "1           -7.081823            8.668516     0.0\n",
      "2           10.656058            2.184643     4.0\n",
      "3           -3.171289           -7.279640     1.0\n",
      "4            4.236192           -5.069486     9.0\n"
     ]
    }
   ],
   "source": [
    "# Add the lables back\n",
    "matrix_new = np.vstack((matrix_new, l)).T\n",
    "#get the principal components\n",
    "new_df = pd.DataFrame(data=matrix_new, columns=(\"1st Principal Comp\", \"2nd Principal comp\", \"Labels\"))\n",
    "# print the first few rows of the projected matrix\n",
    "print(new_df.head())"
   ]
  },
  {
   "cell_type": "markdown",
   "metadata": {},
   "source": [
    "#### Mean and Projection matrix returned."
   ]
  },
  {
   "cell_type": "code",
   "execution_count": 18,
   "metadata": {},
   "outputs": [],
   "source": [
    "# Perform PCA to return mean and projection matrix\n",
    "# define a PCA class and add the fetures and the mean value\n",
    "def PCA(p,q,val_mean =None,attribute=None,training=True):  \n",
    "    # calculate the mean \n",
    "    if training:\n",
    "        val_mean =  np.mean(p,axis=0,keepdims=True)\n",
    "    # standardize by sutracting the mean value    \n",
    "    p = p -val_mean \n",
    "    if training:\n",
    "        # do dimentionality reduction using SVD decomposition\n",
    "        u, s, v = svd(p) \n",
    "        # transpose the features \n",
    "        attribute = np.transpose(v[:q,:])\n",
    "    # get the reduced components projected matrix ,mean matrix and the updated features\n",
    "    reduced_pc = np.dot(p, attribute)\n",
    "    # return the projected matrix and the mean values\n",
    "    return reduced_pc,attribute,val_mean\n"
   ]
  },
  {
   "cell_type": "markdown",
   "metadata": {},
   "source": [
    "#### Plotting the data points in the sample space"
   ]
  },
  {
   "cell_type": "code",
   "execution_count": 19,
   "metadata": {},
   "outputs": [
    {
     "name": "stderr",
     "output_type": "stream",
     "text": [
      "C:\\Users\\npath\\Anaconda3\\lib\\site-packages\\seaborn\\axisgrid.py:243: UserWarning: The `size` parameter has been renamed to `height`; please update your code.\n",
      "  warnings.warn(msg, UserWarning)\n"
     ]
    },
    {
     "data": {
      "image/png": "[encoded data removed]",
      "text/plain": [
       "<Figure size 483.875x432 with 1 Axes>"
      ]
     },
     "metadata": {
      "needs_background": "light"
     },
     "output_type": "display_data"
    }
   ],
   "source": [
    "# PLot the points in a 2d space.\n",
    "import seaborn as sn\n",
    "# enter parameters and do plotting\n",
    "sn.FacetGrid(new_df, hue=\"Labels\", size=6,).map(plt.scatter, '1st Principal Comp', '2nd Principal comp').add_legend()\n",
    "sn.color_palette(\"Set2\")\n",
    "# plot scatter plot\n",
    "plt.show()"
   ]
  },
  {
   "cell_type": "markdown",
   "metadata": {},
   "source": [
    "# Task 2 \n",
    "Apply PCA to both training and testing set. Then perform classification with the 1-nearest neighbour classifier. Analyse the performance change against different reduced dimensions. (suggestion: from 256 to 10)"
   ]
  },
  {
   "cell_type": "code",
   "execution_count": 20,
   "metadata": {},
   "outputs": [],
   "source": [
    "# make the KNN classifier\n",
    "# add training and the testing data and add the number of dimentions \n",
    "def KNN(train_x,train_y,test_x,test_y, dimention=256):\n",
    "    # calculate the mean value and the features and implement the PCA class \n",
    "    p_training,attribute,val_mean = PCA(train_x,dimention)\n",
    "    # get pca components of testing data\n",
    "    p_testing,_,_ = PCA(test_x,dimention,val_mean,attribute,False)\n",
    "    # enable KNN classifier with 1 neighbour\n",
    "    k_near = KNeighborsClassifier(1)\n",
    "    # fit and imlenent the model\n",
    "    k_near.fit(p_training, train_y)\n",
    "    # return the updated score.\n",
    "    return k_near.score(p_testing,test_y)"
   ]
  },
  {
   "cell_type": "code",
   "execution_count": 21,
   "metadata": {},
   "outputs": [],
   "source": [
    "update_pc = []\n",
    "# enter the dimentions for reduction\n",
    "# iteraltively reduce the number of dimentions\n",
    "for dimention in [256,200,150,100,50,10]:\n",
    "    # update the new dimentions\n",
    "    new_dim = KNN(train_x,train_y,test_x,test_y,dimention=dimention)\n",
    "    # add them to the empty list\n",
    "    update_pc.append(new_dim)"
   ]
  },
  {
   "cell_type": "markdown",
   "metadata": {},
   "source": [
    "#### PLotting of performance measure Accuracy vs Dimentions"
   ]
  },
  {
   "cell_type": "code",
   "execution_count": 22,
   "metadata": {},
   "outputs": [
    {
     "name": "stdout",
     "output_type": "stream",
     "text": [
      "\n"
     ]
    },
    {
     "data": {
      "image/png": "[encoded data removed]",
      "text/plain": [
       "<Figure size 432x288 with 1 Axes>"
      ]
     },
     "metadata": {
      "needs_background": "light"
     },
     "output_type": "display_data"
    }
   ],
   "source": [
    "# Analyse performace change against dimention\n",
    "plt.plot([256,200,150,100,50,10],update_pc)\n",
    "# set x label\n",
    "plt.xlabel('Dimention')\n",
    "# set y label\n",
    "plt.ylabel('Accuracy')\n",
    "# plot the performance graph\n",
    "print()"
   ]
  },
  {
   "cell_type": "markdown",
   "metadata": {},
   "source": [
    "### Observation : Accuracy 94%\n",
    "As the dimentions increases the accuracy also increases and reaches a maximum value of about 94% for 50 dimentions and the  decreases gradually as the number of dimentions increases."
   ]
  },
  {
   "cell_type": "markdown",
   "metadata": {},
   "source": [
    "# Task 3 :\n",
    "Write code for implementing k-means clustering. Apply k-means clustering to the MNIST training set without dimensionality reduction. Plot the loss curve, that is, the change of loss value of k-means algorithm with respect to the number of iterations."
   ]
  },
  {
   "cell_type": "markdown",
   "metadata": {},
   "source": [
    "#### Get Centroid"
   ]
  },
  {
   "cell_type": "code",
   "execution_count": 23,
   "metadata": {},
   "outputs": [],
   "source": [
    "# create get centroid function\n",
    "def Centroid(dataSet,k):\n",
    "    # get the shape of the data set\n",
    "    r,s = dataSet.shape\n",
    "    # initialize the centroid value with a matrix of zeroes\n",
    "    centroid = np.zeros((k,s))\n",
    "    # loop theought the number of clusters formed\n",
    "    \n",
    "    for j in range(k):\n",
    "        # update the index value\n",
    "        idx = int(np.random.uniform(0,r)) \n",
    "        # update the centroid.\n",
    "        centroid[j,:] = dataSet[idx,:]\n",
    "    # return the centroid value    \n",
    "    return centroid"
   ]
  },
  {
   "cell_type": "markdown",
   "metadata": {},
   "source": [
    "#### Get Eucledian Distance"
   ]
  },
  {
   "cell_type": "code",
   "execution_count": 24,
   "metadata": {},
   "outputs": [],
   "source": [
    "# get the eucledian distance.\n",
    "def Eucledian(x,y):\n",
    "    # return distance as the sqrt of the sum of the squared distance \n",
    "    return np.sqrt(np.sum((x-y)**2)) "
   ]
  },
  {
   "cell_type": "markdown",
   "metadata": {},
   "source": [
    "#### Apply K-means and observe loss by plotting the graph."
   ]
  },
  {
   "cell_type": "code",
   "execution_count": 25,
   "metadata": {},
   "outputs": [],
   "source": [
    "# create a Kmeans clustering functin that takes in the data and the dimentions\n",
    "def K_means_clustering(samp_data,dimention):\n",
    "    # get shape of the data set\n",
    "    t = np.shape(samp_data)[0]  \n",
    "    # get a zero matrix\n",
    "    clust_eval =np.zeros((t,2))\n",
    "    # clusters should be updated with each iteration\n",
    "    clust_cnge = True\n",
    " \n",
    "    # get the centroid\n",
    "    get_centroid = Centroid(samp_data,dimention)\n",
    "    # create empty list to store loss values\n",
    "    get_loss = []\n",
    "    # iterate throught the clusters \n",
    "    while clust_cnge:\n",
    "        # initilaze the cluster change\n",
    "        clust_cnge = False \n",
    "        # initliaize the loss\n",
    "        loss = 0\n",
    "        \n",
    "        for p in range(t):\n",
    "            # initilaize the minimum distance\n",
    "            minimum_distance = 100000.0\n",
    "            # initialize the index value\n",
    "            minimum_idx = -1\n",
    " \n",
    "            # calculate the eucledian distance\n",
    "            for q in range(dimention):\n",
    "                # get eucledian distance of samples from centroid\n",
    "                distance = Eucledian(get_centroid[q,:],samp_data[p,:])\n",
    "                # if not minimum update the distance\n",
    "                if distance < minimum_distance:\n",
    "                    # get minimum distance \n",
    "                    minimum_distance = distance\n",
    "                    # update minimum distance\n",
    "                    minimum_idx = q\n",
    "                    \n",
    "            # update the index value\n",
    "            if clust_eval[p,0] != minimum_idx:\n",
    "                # update the clusters and store the vlaue in empty list\n",
    "                clust_cnge = True\n",
    "                # get the minimum distance and index value\n",
    "                clust_eval[p,:] = minimum_idx,minimum_distance**2\n",
    "             # determine the loss   \n",
    "            loss+=minimum_distance**2\n",
    "            \n",
    "        # store the loss    \n",
    "        get_loss.append(loss/t)\n",
    "        # get the updated value of centroid\n",
    "        for q in range(dimention):\n",
    "            # centroid gets updated with each iteration\n",
    "            cluster_points = samp_data[np.nonzero(clust_eval[:,0] == q)[0]]  \n",
    "            # get mean value to update the cluster\n",
    "            get_centroid[q,:] = np.mean(cluster_points,axis=0)\n",
    "            \n",
    "    # return the updated loss ,centroid and new indexes.\n",
    "    return get_centroid,clust_eval,get_loss\n"
   ]
  },
  {
   "cell_type": "code",
   "execution_count": 26,
   "metadata": {},
   "outputs": [],
   "source": [
    "# pass in the training data\n",
    "get_centroid,clust_eval,get_loss = K_means_clustering(train_x,10)"
   ]
  },
  {
   "cell_type": "markdown",
   "metadata": {},
   "source": [
    "#### Plotting of performance measures Loss vs Iterations"
   ]
  },
  {
   "cell_type": "code",
   "execution_count": 27,
   "metadata": {},
   "outputs": [
    {
     "data": {
      "text/plain": [
       "Text(0, 0.5, 'Loss')"
      ]
     },
     "execution_count": 27,
     "metadata": {},
     "output_type": "execute_result"
    },
    {
     "data": {
      "image/png": "[encoded data removed]",
      "text/plain": [
       "<Figure size 432x288 with 1 Axes>"
      ]
     },
     "metadata": {
      "needs_background": "light"
     },
     "output_type": "display_data"
    }
   ],
   "source": [
    "# plot the variation of loss with  the iterations\n",
    "plt.plot(get_loss)\n",
    "# set x label\n",
    "plt.xlabel('Iterations')\n",
    "# set y Label\n",
    "plt.ylabel('Loss')"
   ]
  },
  {
   "cell_type": "markdown",
   "metadata": {},
   "source": [
    "### Observation :\n",
    "We see that the loss is reduced as the iterations increases indicatng that as samples are being clustered and at the end all the samples have neen correctly sampled."
   ]
  },
  {
   "cell_type": "markdown",
   "metadata": {},
   "source": [
    "# Task 4\n",
    "Randomly choose one training sample from each class as initial clustering centres (so in total 10 centres). Performing k-means to group data into 10 groups with those initialized centres. For each cluster, calculate the percentage of samples sharing the same digit as the initial group centre. Average those percentages as an evaluation metric for k-means clustering. Repeat the above experiment with dimensionality reduced features and calculate the average percentage again. Note that you keep the initial clustering centres fixed through out those experiments. Analyse the performance change against different reduced dimensions. (suggestion: from 256 to 10)\n"
   ]
  },
  {
   "cell_type": "code",
   "execution_count": 28,
   "metadata": {},
   "outputs": [],
   "source": [
    "# make the score function to get the updated scores\n",
    "def get_score(y , new_cluster):\n",
    "    # return the accuracy metrics\n",
    "    return sklearn.metrics.accuracy_score(train_y, new_cluster[:,0].reshape(-1))\n",
    "# make a function to store the index value\n",
    "def index_val(x,y,w):\n",
    "    # get the shape of the data set and store it as variable\n",
    "    m,n = x.shape\n",
    "    # initialize the centroid\n",
    "    centroids = np.zeros((w,),dtype = np.int)\n",
    "    # update the centroid value and store\n",
    "    for k in range(w):\n",
    "        # reshape the data set and update the index value\n",
    "        idx = np.random.choice(np.argwhere(y==k).reshape(-1),size=1)[0]\n",
    "        # updte the index value of the centroid\n",
    "        centroids[k] = idx\n",
    "    # return the updated centroid\n",
    "    return centroids\n",
    "# store the cnetroid value\n",
    "def get_centroids(x,init_ids):\n",
    "    # return the updated value\n",
    "    return x[init_ids]\n"
   ]
  },
  {
   "cell_type": "code",
   "execution_count": 29,
   "metadata": {},
   "outputs": [],
   "source": [
    "# create the k means function\n",
    "def new_kmeans(samp_data,w,centroids):\n",
    "    # store the dimentions of the data set\n",
    "    t = np.shape(samp_data)[0] \n",
    "    # initialze the clusters\n",
    "    new_cluster =np.zeros((t,2))\n",
    "    # cluster will update upon successive iterations\n",
    "    change_cluster = True\n",
    " \n",
    "    # store the updated loss values\n",
    "    new_loss = []\n",
    "    # updte the clusters with successive iterations\n",
    "    while change_cluster:\n",
    "        \n",
    "        change_cluster = False\n",
    " \n",
    "        # set minimum distance and indev value\n",
    "        for p in range(t):\n",
    "            # set minimum distance \n",
    "            minimum_distance = 100000.0\n",
    "            # set minimum index value\n",
    "            minimum_index = -1\n",
    " \n",
    "            # Calculate the distance between the sample and the centroid\n",
    "            for q in range(w):\n",
    "                # use eucledian distance to calcualte the distance.\n",
    "                dist = Eucledian(centroids[q,:],samp_data[p,:])\n",
    "                # if distance is minimum then update it\n",
    "                if dist < minimum_distance:\n",
    "                    # update distance \n",
    "                    minimum_distance = dist\n",
    "                    # update index\n",
    "                    minimum_index = q\n",
    "            # if not munimum distance find the minimum distance \n",
    "            if new_cluster[p,0] != minimum_index:\n",
    "                # if munimum distance found update the cluster\n",
    "                change_cluster = True\n",
    "                # store the values in the new cluster\n",
    "                new_cluster[p,:] = minimum_index,minimum_distance**2\n",
    "        # store the updated loss value generated after each iteration        \n",
    "        new_loss.append(minimum_distance**2)\n",
    "        # update the centroid value of the new cluster\n",
    "        for q in range(w):\n",
    "            new_cluster_points = samp_data[np.nonzero(new_cluster[:,0] == q)[0]] \n",
    "            # get the centroid as the mean value of the distance \n",
    "            centroids[q,:] = np.mean(new_cluster_points,axis=0)  \n",
    "    # return the centroid and the new value of cluster and loss.\n",
    "    return centroids,new_cluster,new_loss\n"
   ]
  },
  {
   "cell_type": "code",
   "execution_count": 30,
   "metadata": {},
   "outputs": [],
   "source": [
    "# pass the training data\n",
    "idx = index_val(train_x,train_y,10)"
   ]
  },
  {
   "cell_type": "code",
   "execution_count": 31,
   "metadata": {},
   "outputs": [],
   "source": [
    "# set an empty list to score the new mean values\n",
    "new_score_value = []\n",
    "# reduce the dimentions and perform PCA\n",
    "for  dimention in [256,192,96,48,10]:\n",
    "    # store the dimentions in the variables\n",
    "    pca_train,feature,mean = PCA(train_x,dimention)\n",
    "    # get centroid\n",
    "    centroids = get_centroids(pca_train,idx)\n",
    "    # update centroid \n",
    "    centroids,new_cluster,new_loss = new_kmeans(pca_train,10,centroids)\n",
    "    # compute the evaluation and performance scores\n",
    "    new_values = get_score(train_y, new_cluster)\n",
    "    new_score_value.append(new_values)"
   ]
  },
  {
   "cell_type": "markdown",
   "metadata": {},
   "source": [
    "#### Plotting of performance measure Accuracy vs Dimentions"
   ]
  },
  {
   "cell_type": "code",
   "execution_count": 32,
   "metadata": {},
   "outputs": [
    {
     "data": {
      "text/plain": [
       "Text(0, 0.5, 'Accuracy')"
      ]
     },
     "execution_count": 32,
     "metadata": {},
     "output_type": "execute_result"
    },
    {
     "data": {
      "image/png": "[encoded data removed]",
      "text/plain": [
       "<Figure size 432x288 with 1 Axes>"
      ]
     },
     "metadata": {
      "needs_background": "light"
     },
     "output_type": "display_data"
    }
   ],
   "source": [
    "# plot the accuracy as the dimentions are reduced\n",
    "plt.plot([256,192,96,48,10],new_score_value)\n",
    "# set x label\n",
    "plt.xlabel('Dimensions')\n",
    "# set y label\n",
    "plt.ylabel('Accuracy')"
   ]
  },
  {
   "cell_type": "markdown",
   "metadata": {},
   "source": [
    "### Observation :\n",
    "Hence it is observed that Accuracy firs increases and then attains a stable value that means that all the data points have been classified correctly. Again it is observed that when the number of dimentions is 50 maximum value of accuracy is obtained."
   ]
  },
  {
   "cell_type": "code",
   "execution_count": null,
   "metadata": {},
   "outputs": [],
   "source": []
  }
 ],
 "metadata": {
  "kernelspec": {
   "display_name": "Python 3",
   "language": "python",
   "name": "python3"
  },
  "language_info": {
   "codemirror_mode": {
    "name": "ipython",
    "version": 3
   },
   "file_extension": ".py",
   "mimetype": "text/x-python",
   "name": "python",
   "nbconvert_exporter": "python",
   "pygments_lexer": "ipython3",
   "version": "3.7.7"
  }
 },
 "nbformat": 4,
 "nbformat_minor": 4
}
