{
 "cells": [
  {
   "cell_type": "markdown",
   "metadata": {},
   "source": [
    "## Task 1: To Load and Preprocess the data set"
   ]
  },
  {
   "cell_type": "markdown",
   "metadata": {},
   "source": [
    "### Questions to be answered:\n",
    "##### Q1 - How many wines are included in the data set? \n",
    "##### Q2 - Are all the wines unique, and if not, how many unique wines are there?\n",
    "##### Q3 - Are there any missing or invalid values in the data?\n",
    "##### Q4 - Is the scale of the different attributes approximately equal?"
   ]
  },
  {
   "cell_type": "code",
   "execution_count": 1,
   "metadata": {},
   "outputs": [],
   "source": [
    "# import all the relevant libraries\n",
    "%matplotlib inline\n",
    "import pandas as pd                #library for data manipulation and analysis\n",
    "import seaborn as sns              #used for data visualization\n",
    "import matplotlib as mpl           #used for plotting graphs\n",
    "import matplotlib.pyplot as plt    #used for creating figures and p[lotting graphs\n",
    "import numpy as np                 #numerical python library for performing mathematical operations\n",
    "import sklearn                     #provides supervised and unsupervised learning algorithms\n",
    "import sklearn.linear_model\n"
   ]
  },
  {
   "cell_type": "code",
   "execution_count": 2,
   "metadata": {},
   "outputs": [
    {
     "name": "stderr",
     "output_type": "stream",
     "text": [
      "b'Skipping line 3149: expected 12 fields, saw 13\\nSkipping line 4821: expected 12 fields, saw 13\\n'\n"
     ]
    }
   ],
   "source": [
    "#read the wine data set \n",
    "df = pd.read_csv('winedata.csv', sep=';', error_bad_lines = False)   #read the file in csv format\n"
   ]
  },
  {
   "cell_type": "code",
   "execution_count": 3,
   "metadata": {},
   "outputs": [
    {
     "data": {
      "text/html": [
       "<div>\n",
       "<style scoped>\n",
       "    .dataframe tbody tr th:only-of-type {\n",
       "        vertical-align: middle;\n",
       "    }\n",
       "\n",
       "    .dataframe tbody tr th {\n",
       "        vertical-align: top;\n",
       "    }\n",
       "\n",
       "    .dataframe thead th {\n",
       "        text-align: right;\n",
       "    }\n",
       "</style>\n",
       "<table border=\"1\" class=\"dataframe\">\n",
       "  <thead>\n",
       "    <tr style=\"text-align: right;\">\n",
       "      <th></th>\n",
       "      <th>fixed acidity</th>\n",
       "      <th>volatile acidity</th>\n",
       "      <th>citric acid</th>\n",
       "      <th>residual sugar</th>\n",
       "      <th>chlorides</th>\n",
       "      <th>free sulfur dioxide</th>\n",
       "      <th>total sulfur dioxide</th>\n",
       "      <th>density</th>\n",
       "      <th>pH</th>\n",
       "      <th>sulphates</th>\n",
       "      <th>alcohol</th>\n",
       "      <th>quality</th>\n",
       "    </tr>\n",
       "  </thead>\n",
       "  <tbody>\n",
       "    <tr>\n",
       "      <td>0</td>\n",
       "      <td>7.0</td>\n",
       "      <td>0.27</td>\n",
       "      <td>0.36</td>\n",
       "      <td>20.7</td>\n",
       "      <td>0.045</td>\n",
       "      <td>45.0</td>\n",
       "      <td>170.0</td>\n",
       "      <td>1.001</td>\n",
       "      <td>3.0</td>\n",
       "      <td>0.45</td>\n",
       "      <td>8.8</td>\n",
       "      <td>6</td>\n",
       "    </tr>\n",
       "    <tr>\n",
       "      <td>1</td>\n",
       "      <td>6.3</td>\n",
       "      <td>0.3</td>\n",
       "      <td>0.34</td>\n",
       "      <td>1.6</td>\n",
       "      <td>0.049</td>\n",
       "      <td>14.0</td>\n",
       "      <td>132.0</td>\n",
       "      <td>0.9940000000000001</td>\n",
       "      <td>3.3</td>\n",
       "      <td>0.49</td>\n",
       "      <td>9.5</td>\n",
       "      <td>6</td>\n",
       "    </tr>\n",
       "    <tr>\n",
       "      <td>2</td>\n",
       "      <td>8.1</td>\n",
       "      <td>0.28</td>\n",
       "      <td>0.4</td>\n",
       "      <td>6.9</td>\n",
       "      <td>0.05</td>\n",
       "      <td>30.0</td>\n",
       "      <td>97.0</td>\n",
       "      <td>0.9951</td>\n",
       "      <td>3.26</td>\n",
       "      <td>0.44</td>\n",
       "      <td>10.1</td>\n",
       "      <td>6</td>\n",
       "    </tr>\n",
       "    <tr>\n",
       "      <td>3</td>\n",
       "      <td>7.2</td>\n",
       "      <td>0.23</td>\n",
       "      <td>0.32</td>\n",
       "      <td>8.5</td>\n",
       "      <td>0.057999999999999996</td>\n",
       "      <td>47.0</td>\n",
       "      <td>186.0</td>\n",
       "      <td>0.9956</td>\n",
       "      <td>3.19</td>\n",
       "      <td>0.4</td>\n",
       "      <td>9.9</td>\n",
       "      <td>6</td>\n",
       "    </tr>\n",
       "    <tr>\n",
       "      <td>4</td>\n",
       "      <td>7.2</td>\n",
       "      <td>0.23</td>\n",
       "      <td>0.32</td>\n",
       "      <td>8.5</td>\n",
       "      <td>0.057999999999999996</td>\n",
       "      <td>47.0</td>\n",
       "      <td>186.0</td>\n",
       "      <td>0.9956</td>\n",
       "      <td>3.19</td>\n",
       "      <td>0.4</td>\n",
       "      <td>9.9</td>\n",
       "      <td>6</td>\n",
       "    </tr>\n",
       "  </tbody>\n",
       "</table>\n",
       "</div>"
      ],
      "text/plain": [
       "   fixed acidity volatile acidity citric acid residual sugar  \\\n",
       "0            7.0             0.27        0.36           20.7   \n",
       "1            6.3              0.3        0.34            1.6   \n",
       "2            8.1             0.28         0.4            6.9   \n",
       "3            7.2             0.23        0.32            8.5   \n",
       "4            7.2             0.23        0.32            8.5   \n",
       "\n",
       "              chlorides free sulfur dioxide total sulfur dioxide  \\\n",
       "0                 0.045                45.0                170.0   \n",
       "1                 0.049                14.0                132.0   \n",
       "2                  0.05                30.0                 97.0   \n",
       "3  0.057999999999999996                47.0                186.0   \n",
       "4  0.057999999999999996                47.0                186.0   \n",
       "\n",
       "              density    pH sulphates alcohol quality  \n",
       "0               1.001   3.0      0.45     8.8       6  \n",
       "1  0.9940000000000001   3.3      0.49     9.5       6  \n",
       "2              0.9951  3.26      0.44    10.1       6  \n",
       "3              0.9956  3.19       0.4     9.9       6  \n",
       "4              0.9956  3.19       0.4     9.9       6  "
      ]
     },
     "execution_count": 3,
     "metadata": {},
     "output_type": "execute_result"
    }
   ],
   "source": [
    "#display the first 5 values to know that the data set has been read using the head function\n",
    "df.head()"
   ]
  },
  {
   "cell_type": "code",
   "execution_count": 4,
   "metadata": {},
   "outputs": [
    {
     "name": "stdout",
     "output_type": "stream",
     "text": [
      "<class 'pandas.core.frame.DataFrame'>\n",
      "RangeIndex: 4896 entries, 0 to 4895\n",
      "Data columns (total 12 columns):\n",
      "fixed acidity           4891 non-null float64\n",
      "volatile acidity        4891 non-null object\n",
      "citric acid             4843 non-null object\n",
      "residual sugar          4886 non-null object\n",
      "chlorides               4890 non-null object\n",
      "free sulfur dioxide     4888 non-null object\n",
      "total sulfur dioxide    4889 non-null object\n",
      "density                 4890 non-null object\n",
      "pH                      4890 non-null object\n",
      "sulphates               4892 non-null object\n",
      "alcohol                 4890 non-null object\n",
      "quality                 4892 non-null object\n",
      "dtypes: float64(1), object(11)\n",
      "memory usage: 459.1+ KB\n"
     ]
    }
   ],
   "source": [
    "#get the information of the data set using the info() function.\n",
    "df.info()"
   ]
  },
  {
   "cell_type": "code",
   "execution_count": 5,
   "metadata": {},
   "outputs": [
    {
     "data": {
      "text/plain": [
       "fixed acidity           float64\n",
       "volatile acidity         object\n",
       "citric acid              object\n",
       "residual sugar           object\n",
       "chlorides                object\n",
       "free sulfur dioxide      object\n",
       "total sulfur dioxide     object\n",
       "density                  object\n",
       "pH                       object\n",
       "sulphates                object\n",
       "alcohol                  object\n",
       "quality                  object\n",
       "dtype: object"
      ]
     },
     "execution_count": 5,
     "metadata": {},
     "output_type": "execute_result"
    }
   ],
   "source": [
    "# This code checks the data type in each column using the dtype keyword.\n",
    "df.dtypes"
   ]
  },
  {
   "cell_type": "code",
   "execution_count": 6,
   "metadata": {},
   "outputs": [],
   "source": [
    "# use pd.numeric() method to change object to float values for all the given attributes\n",
    "# change all the values mentioned below  to float value\n",
    "df['quality']= pd.to_numeric(df['quality'], errors = 'coerce')\n",
    "df['volatile acidity']= pd.to_numeric(df['volatile acidity'], errors = 'coerce')\n",
    "df['citric acid']= pd.to_numeric(df['citric acid'], errors = 'coerce')\n",
    "df['residual sugar']= pd.to_numeric(df['residual sugar'], errors = 'coerce')\n",
    "df['chlorides']= pd.to_numeric(df['chlorides'], errors = 'coerce')\n",
    "df['free sulfur dioxide']= pd.to_numeric(df['free sulfur dioxide'], errors = 'coerce')\n",
    "df['total sulfur dioxide']= pd.to_numeric(df['total sulfur dioxide'], errors ='coerce')\n",
    "df['density']= pd.to_numeric(df['density'], errors = 'coerce')\n",
    "df['pH']= pd.to_numeric(df['pH'], errors = 'coerce')\n",
    "df['sulphates']= pd.to_numeric(df['sulphates'], errors = 'coerce')\n",
    "df['alcohol']= pd.to_numeric(df['alcohol'], errors = 'coerce')"
   ]
  },
  {
   "cell_type": "code",
   "execution_count": 7,
   "metadata": {},
   "outputs": [
    {
     "name": "stdout",
     "output_type": "stream",
     "text": [
      "<class 'pandas.core.frame.DataFrame'>\n",
      "RangeIndex: 4896 entries, 0 to 4895\n",
      "Data columns (total 12 columns):\n",
      "fixed acidity           4891 non-null float64\n",
      "volatile acidity        4890 non-null float64\n",
      "citric acid             4842 non-null float64\n",
      "residual sugar          4885 non-null float64\n",
      "chlorides               4889 non-null float64\n",
      "free sulfur dioxide     4887 non-null float64\n",
      "total sulfur dioxide    4888 non-null float64\n",
      "density                 4889 non-null float64\n",
      "pH                      4889 non-null float64\n",
      "sulphates               4891 non-null float64\n",
      "alcohol                 4889 non-null float64\n",
      "quality                 4794 non-null float64\n",
      "dtypes: float64(12)\n",
      "memory usage: 459.1 KB\n"
     ]
    }
   ],
   "source": [
    "# get the changed information about the data set by calling the info function again.\n",
    "df.info() # values are now represented as floating point values"
   ]
  },
  {
   "cell_type": "markdown",
   "metadata": {},
   "source": [
    "### Observation : we observe that all values have been converted to float"
   ]
  },
  {
   "cell_type": "code",
   "execution_count": 8,
   "metadata": {},
   "outputs": [
    {
     "data": {
      "text/html": [
       "<div>\n",
       "<style scoped>\n",
       "    .dataframe tbody tr th:only-of-type {\n",
       "        vertical-align: middle;\n",
       "    }\n",
       "\n",
       "    .dataframe tbody tr th {\n",
       "        vertical-align: top;\n",
       "    }\n",
       "\n",
       "    .dataframe thead th {\n",
       "        text-align: right;\n",
       "    }\n",
       "</style>\n",
       "<table border=\"1\" class=\"dataframe\">\n",
       "  <thead>\n",
       "    <tr style=\"text-align: right;\">\n",
       "      <th></th>\n",
       "      <th>fixed acidity</th>\n",
       "      <th>volatile acidity</th>\n",
       "      <th>citric acid</th>\n",
       "      <th>residual sugar</th>\n",
       "      <th>chlorides</th>\n",
       "      <th>free sulfur dioxide</th>\n",
       "      <th>total sulfur dioxide</th>\n",
       "      <th>density</th>\n",
       "      <th>pH</th>\n",
       "      <th>sulphates</th>\n",
       "      <th>alcohol</th>\n",
       "      <th>quality</th>\n",
       "    </tr>\n",
       "  </thead>\n",
       "  <tbody>\n",
       "    <tr>\n",
       "      <td>count</td>\n",
       "      <td>4891.000000</td>\n",
       "      <td>4890.000000</td>\n",
       "      <td>4842.000000</td>\n",
       "      <td>4885.000000</td>\n",
       "      <td>4889.000000</td>\n",
       "      <td>4887.000000</td>\n",
       "      <td>4888.000000</td>\n",
       "      <td>4889.000000</td>\n",
       "      <td>4889.000000</td>\n",
       "      <td>4891.000000</td>\n",
       "      <td>4889.000000</td>\n",
       "      <td>4794.000000</td>\n",
       "    </tr>\n",
       "    <tr>\n",
       "      <td>mean</td>\n",
       "      <td>6.855030</td>\n",
       "      <td>0.278244</td>\n",
       "      <td>0.334292</td>\n",
       "      <td>6.395609</td>\n",
       "      <td>0.045779</td>\n",
       "      <td>35.329036</td>\n",
       "      <td>138.406199</td>\n",
       "      <td>0.994028</td>\n",
       "      <td>3.188116</td>\n",
       "      <td>0.489812</td>\n",
       "      <td>10.514211</td>\n",
       "      <td>5.876929</td>\n",
       "    </tr>\n",
       "    <tr>\n",
       "      <td>std</td>\n",
       "      <td>0.844023</td>\n",
       "      <td>0.100828</td>\n",
       "      <td>0.120942</td>\n",
       "      <td>5.074504</td>\n",
       "      <td>0.021863</td>\n",
       "      <td>17.014816</td>\n",
       "      <td>42.506828</td>\n",
       "      <td>0.002992</td>\n",
       "      <td>0.150950</td>\n",
       "      <td>0.114096</td>\n",
       "      <td>1.230556</td>\n",
       "      <td>0.884692</td>\n",
       "    </tr>\n",
       "    <tr>\n",
       "      <td>min</td>\n",
       "      <td>3.800000</td>\n",
       "      <td>0.080000</td>\n",
       "      <td>0.000000</td>\n",
       "      <td>0.600000</td>\n",
       "      <td>0.009000</td>\n",
       "      <td>2.000000</td>\n",
       "      <td>9.000000</td>\n",
       "      <td>0.987110</td>\n",
       "      <td>2.720000</td>\n",
       "      <td>0.220000</td>\n",
       "      <td>8.000000</td>\n",
       "      <td>3.000000</td>\n",
       "    </tr>\n",
       "    <tr>\n",
       "      <td>25%</td>\n",
       "      <td>6.300000</td>\n",
       "      <td>0.210000</td>\n",
       "      <td>0.270000</td>\n",
       "      <td>1.700000</td>\n",
       "      <td>0.036000</td>\n",
       "      <td>23.000000</td>\n",
       "      <td>108.000000</td>\n",
       "      <td>0.991730</td>\n",
       "      <td>3.090000</td>\n",
       "      <td>0.410000</td>\n",
       "      <td>9.500000</td>\n",
       "      <td>5.000000</td>\n",
       "    </tr>\n",
       "    <tr>\n",
       "      <td>50%</td>\n",
       "      <td>6.800000</td>\n",
       "      <td>0.260000</td>\n",
       "      <td>0.320000</td>\n",
       "      <td>5.200000</td>\n",
       "      <td>0.043000</td>\n",
       "      <td>34.000000</td>\n",
       "      <td>134.000000</td>\n",
       "      <td>0.993740</td>\n",
       "      <td>3.180000</td>\n",
       "      <td>0.470000</td>\n",
       "      <td>10.400000</td>\n",
       "      <td>6.000000</td>\n",
       "    </tr>\n",
       "    <tr>\n",
       "      <td>75%</td>\n",
       "      <td>7.300000</td>\n",
       "      <td>0.320000</td>\n",
       "      <td>0.390000</td>\n",
       "      <td>9.900000</td>\n",
       "      <td>0.050000</td>\n",
       "      <td>46.000000</td>\n",
       "      <td>167.000000</td>\n",
       "      <td>0.996100</td>\n",
       "      <td>3.280000</td>\n",
       "      <td>0.550000</td>\n",
       "      <td>11.400000</td>\n",
       "      <td>6.000000</td>\n",
       "    </tr>\n",
       "    <tr>\n",
       "      <td>max</td>\n",
       "      <td>14.200000</td>\n",
       "      <td>1.100000</td>\n",
       "      <td>1.660000</td>\n",
       "      <td>65.800000</td>\n",
       "      <td>0.346000</td>\n",
       "      <td>289.000000</td>\n",
       "      <td>440.000000</td>\n",
       "      <td>1.038980</td>\n",
       "      <td>3.820000</td>\n",
       "      <td>1.080000</td>\n",
       "      <td>14.200000</td>\n",
       "      <td>9.000000</td>\n",
       "    </tr>\n",
       "  </tbody>\n",
       "</table>\n",
       "</div>"
      ],
      "text/plain": [
       "       fixed acidity  volatile acidity  citric acid  residual sugar  \\\n",
       "count    4891.000000       4890.000000  4842.000000     4885.000000   \n",
       "mean        6.855030          0.278244     0.334292        6.395609   \n",
       "std         0.844023          0.100828     0.120942        5.074504   \n",
       "min         3.800000          0.080000     0.000000        0.600000   \n",
       "25%         6.300000          0.210000     0.270000        1.700000   \n",
       "50%         6.800000          0.260000     0.320000        5.200000   \n",
       "75%         7.300000          0.320000     0.390000        9.900000   \n",
       "max        14.200000          1.100000     1.660000       65.800000   \n",
       "\n",
       "         chlorides  free sulfur dioxide  total sulfur dioxide      density  \\\n",
       "count  4889.000000          4887.000000           4888.000000  4889.000000   \n",
       "mean      0.045779            35.329036            138.406199     0.994028   \n",
       "std       0.021863            17.014816             42.506828     0.002992   \n",
       "min       0.009000             2.000000              9.000000     0.987110   \n",
       "25%       0.036000            23.000000            108.000000     0.991730   \n",
       "50%       0.043000            34.000000            134.000000     0.993740   \n",
       "75%       0.050000            46.000000            167.000000     0.996100   \n",
       "max       0.346000           289.000000            440.000000     1.038980   \n",
       "\n",
       "                pH    sulphates      alcohol      quality  \n",
       "count  4889.000000  4891.000000  4889.000000  4794.000000  \n",
       "mean      3.188116     0.489812    10.514211     5.876929  \n",
       "std       0.150950     0.114096     1.230556     0.884692  \n",
       "min       2.720000     0.220000     8.000000     3.000000  \n",
       "25%       3.090000     0.410000     9.500000     5.000000  \n",
       "50%       3.180000     0.470000    10.400000     6.000000  \n",
       "75%       3.280000     0.550000    11.400000     6.000000  \n",
       "max       3.820000     1.080000    14.200000     9.000000  "
      ]
     },
     "execution_count": 8,
     "metadata": {},
     "output_type": "execute_result"
    }
   ],
   "source": [
    "# view the basic statistical feeatures using the describe() method.\n",
    "df.describe()"
   ]
  },
  {
   "cell_type": "markdown",
   "metadata": {},
   "source": [
    "## Solution 1: The number of wines included in the data set are = 4869"
   ]
  },
  {
   "cell_type": "code",
   "execution_count": 9,
   "metadata": {},
   "outputs": [
    {
     "name": "stdout",
     "output_type": "stream",
     "text": [
      "4896\n"
     ]
    }
   ],
   "source": [
    "# Now we count the number of wines in the data set i.e. the number of rows in the data set\n",
    "count_row = df.shape[0]   # count the number of rows iun the matrix\n",
    "print(count_row)          # print the number of counted rows."
   ]
  },
  {
   "cell_type": "code",
   "execution_count": 10,
   "metadata": {},
   "outputs": [
    {
     "name": "stdout",
     "output_type": "stream",
     "text": [
      "Duplicate Rows except first occurrence based on all columns are :\n",
      "      fixed acidity  volatile acidity  citric acid  residual sugar  chlorides  \\\n",
      "4               7.2              0.23         0.32             8.5      0.058   \n",
      "5               8.1              0.28         0.40             6.9      0.050   \n",
      "7               7.0              0.27         0.36            20.7      0.045   \n",
      "8               6.3              0.30         0.34             1.6      0.049   \n",
      "20              6.2              0.66         0.48             1.2      0.029   \n",
      "...             ...               ...          ...             ...        ...   \n",
      "4826            6.4              0.23         0.35            10.3      0.042   \n",
      "4848            7.0              0.36         0.35             2.5      0.048   \n",
      "4849            6.4              0.33         0.44             8.9      0.055   \n",
      "4854            7.1              0.23         0.39            13.7      0.058   \n",
      "4878            6.6              0.34         0.40             8.1      0.046   \n",
      "\n",
      "      free sulfur dioxide  total sulfur dioxide  density    pH  sulphates  \\\n",
      "4                    47.0                 186.0  0.99560  3.19       0.40   \n",
      "5                    30.0                  97.0  0.99510  3.26       0.44   \n",
      "7                    45.0                 170.0  1.00100  3.00       0.45   \n",
      "8                    14.0                 132.0  0.99400  3.30       0.49   \n",
      "20                   29.0                  75.0  0.98920  3.33       0.39   \n",
      "...                   ...                   ...      ...   ...        ...   \n",
      "4826                 54.0                 140.0  0.99670  3.23       0.47   \n",
      "4848                 67.0                 161.0  0.99146  3.05       0.56   \n",
      "4849                 52.0                 164.0  0.99488  3.10       0.48   \n",
      "4854                 26.0                 172.0  0.99755  2.90       0.46   \n",
      "4878                 68.0                 170.0  0.99494  3.15       0.50   \n",
      "\n",
      "        alcohol  quality  \n",
      "4      9.900000      6.0  \n",
      "5     10.100000      6.0  \n",
      "7      8.800000      6.0  \n",
      "8      9.500000      6.0  \n",
      "20    12.800000      8.0  \n",
      "...         ...      ...  \n",
      "4826   9.200000      5.0  \n",
      "4848  11.100000      6.0  \n",
      "4849   9.600000      5.0  \n",
      "4854   9.000000      6.0  \n",
      "4878   9.533333      6.0  \n",
      "\n",
      "[884 rows x 12 columns]\n"
     ]
    }
   ],
   "source": [
    "# Select duplicate rows excluding the first occurrence based on all columns\n",
    "duprows = df[df.duplicated()]\n",
    " \n",
    "print(\"Duplicate Rows except first occurrence based on all columns are :\")  # print the number of duplicate rows\n",
    "print(duprows)                                                              # print duplicate rows"
   ]
  },
  {
   "cell_type": "code",
   "execution_count": 11,
   "metadata": {},
   "outputs": [
    {
     "data": {
      "text/plain": [
       "884"
      ]
     },
     "execution_count": 11,
     "metadata": {},
     "output_type": "execute_result"
    }
   ],
   "source": [
    "#to calculate the sum of total number of the duplicate values in the data set\n",
    "df.duplicated().sum()"
   ]
  },
  {
   "cell_type": "markdown",
   "metadata": {},
   "source": [
    "### Observation : we observe that number of duplicate rows are 884"
   ]
  },
  {
   "cell_type": "markdown",
   "metadata": {},
   "source": [
    "### Solution 2: Number of unique wines - Remove duplicate values from total values to get 4012 (i.e. 4896-884=4012) where 884 wines are duplicate."
   ]
  },
  {
   "cell_type": "code",
   "execution_count": 12,
   "metadata": {},
   "outputs": [
    {
     "data": {
      "text/plain": [
       "array([ 6.,  5.,  7.,  8.,  4., nan,  3.,  9.])"
      ]
     },
     "execution_count": 12,
     "metadata": {},
     "output_type": "execute_result"
    }
   ],
   "source": [
    "# This code displays the unique values in the column 'quality'\n",
    "df.quality.unique()"
   ]
  },
  {
   "cell_type": "code",
   "execution_count": 13,
   "metadata": {},
   "outputs": [
    {
     "data": {
      "text/plain": [
       "fixed acidity             5\n",
       "volatile acidity          6\n",
       "citric acid              54\n",
       "residual sugar           11\n",
       "chlorides                 7\n",
       "free sulfur dioxide       9\n",
       "total sulfur dioxide      8\n",
       "density                   7\n",
       "pH                        7\n",
       "sulphates                 5\n",
       "alcohol                   7\n",
       "quality                 102\n",
       "dtype: int64"
      ]
     },
     "execution_count": 13,
     "metadata": {},
     "output_type": "execute_result"
    }
   ],
   "source": [
    "np.sum(df.isna())     # get all the NAN values and their sum"
   ]
  },
  {
   "cell_type": "markdown",
   "metadata": {},
   "source": [
    "## Solution 3: Calculate missing or invalid values NAN.\n",
    "#### Missing or invalid values in the data for each attributes are as follow:\n",
    "##### 1. fixed acidity 5\n",
    "##### 2.volatile acidity 6\n",
    "##### 3.citric acid 54\n",
    "##### 4.residual sugar 11\n",
    "##### 5.chlorides 7\n",
    "##### 6.free sulfur dioxide 9\n",
    "##### 7.total sulfur dioxide 8\n",
    "##### 8.density 7\n",
    "##### 9.pH 7\n",
    "##### 10.sulphates 5\n",
    "##### 11.alcohol 7\n",
    "##### 12.quality 102"
   ]
  },
  {
   "cell_type": "code",
   "execution_count": 14,
   "metadata": {},
   "outputs": [
    {
     "name": "stdout",
     "output_type": "stream",
     "text": [
      "      fixed acidity  volatile acidity  citric acid  residual sugar  chlorides  \\\n",
      "0               7.0              0.27         0.36            20.7      0.045   \n",
      "1               6.3              0.30         0.34             1.6      0.049   \n",
      "2               8.1              0.28         0.40             6.9      0.050   \n",
      "3               7.2              0.23         0.32             8.5      0.058   \n",
      "4               7.2              0.23         0.32             8.5      0.058   \n",
      "...             ...               ...          ...             ...        ...   \n",
      "4891            6.2              0.21         0.29             1.6      0.039   \n",
      "4892            6.6              0.32         0.36             8.0      0.047   \n",
      "4893            6.5              0.24         0.19             1.2      0.041   \n",
      "4894            5.5              0.29         0.30             1.1      0.022   \n",
      "4895            6.0              0.21         0.38             0.8      0.020   \n",
      "\n",
      "      free sulfur dioxide  total sulfur dioxide  density    pH  sulphates  \\\n",
      "0                    45.0                 170.0  1.00100  3.00       0.45   \n",
      "1                    14.0                 132.0  0.99400  3.30       0.49   \n",
      "2                    30.0                  97.0  0.99510  3.26       0.44   \n",
      "3                    47.0                 186.0  0.99560  3.19       0.40   \n",
      "4                    47.0                 186.0  0.99560  3.19       0.40   \n",
      "...                   ...                   ...      ...   ...        ...   \n",
      "4891                 24.0                  92.0  0.99114  3.27       0.50   \n",
      "4892                 57.0                 168.0  0.99490  3.15       0.46   \n",
      "4893                 30.0                 111.0  0.99254  2.99       0.46   \n",
      "4894                 20.0                 110.0  0.98869  3.34       0.38   \n",
      "4895                 22.0                  98.0  0.98941  3.26       0.32   \n",
      "\n",
      "      alcohol  quality  \n",
      "0         8.8      6.0  \n",
      "1         9.5      6.0  \n",
      "2        10.1      6.0  \n",
      "3         9.9      6.0  \n",
      "4         9.9      6.0  \n",
      "...       ...      ...  \n",
      "4891     11.2      6.0  \n",
      "4892      9.6      5.0  \n",
      "4893      9.4      6.0  \n",
      "4894     12.8      7.0  \n",
      "4895     11.8      6.0  \n",
      "\n",
      "[4736 rows x 12 columns]\n"
     ]
    }
   ],
   "source": [
    "#drop the missing values and the values where the NAN=True values.\n",
    "df = df.dropna()   #use dropna() to drop missing values\n",
    "print (df)         #print the data set"
   ]
  },
  {
   "cell_type": "code",
   "execution_count": 15,
   "metadata": {},
   "outputs": [
    {
     "data": {
      "text/html": [
       "<div>\n",
       "<style scoped>\n",
       "    .dataframe tbody tr th:only-of-type {\n",
       "        vertical-align: middle;\n",
       "    }\n",
       "\n",
       "    .dataframe tbody tr th {\n",
       "        vertical-align: top;\n",
       "    }\n",
       "\n",
       "    .dataframe thead th {\n",
       "        text-align: right;\n",
       "    }\n",
       "</style>\n",
       "<table border=\"1\" class=\"dataframe\">\n",
       "  <thead>\n",
       "    <tr style=\"text-align: right;\">\n",
       "      <th></th>\n",
       "      <th>fixed acidity</th>\n",
       "      <th>volatile acidity</th>\n",
       "      <th>citric acid</th>\n",
       "      <th>residual sugar</th>\n",
       "      <th>chlorides</th>\n",
       "      <th>free sulfur dioxide</th>\n",
       "      <th>total sulfur dioxide</th>\n",
       "      <th>density</th>\n",
       "      <th>pH</th>\n",
       "      <th>sulphates</th>\n",
       "      <th>alcohol</th>\n",
       "      <th>quality</th>\n",
       "    </tr>\n",
       "  </thead>\n",
       "  <tbody>\n",
       "    <tr>\n",
       "      <td>0</td>\n",
       "      <td>False</td>\n",
       "      <td>False</td>\n",
       "      <td>False</td>\n",
       "      <td>False</td>\n",
       "      <td>False</td>\n",
       "      <td>False</td>\n",
       "      <td>False</td>\n",
       "      <td>False</td>\n",
       "      <td>False</td>\n",
       "      <td>False</td>\n",
       "      <td>False</td>\n",
       "      <td>False</td>\n",
       "    </tr>\n",
       "    <tr>\n",
       "      <td>1</td>\n",
       "      <td>False</td>\n",
       "      <td>False</td>\n",
       "      <td>False</td>\n",
       "      <td>False</td>\n",
       "      <td>False</td>\n",
       "      <td>False</td>\n",
       "      <td>False</td>\n",
       "      <td>False</td>\n",
       "      <td>False</td>\n",
       "      <td>False</td>\n",
       "      <td>False</td>\n",
       "      <td>False</td>\n",
       "    </tr>\n",
       "    <tr>\n",
       "      <td>2</td>\n",
       "      <td>False</td>\n",
       "      <td>False</td>\n",
       "      <td>False</td>\n",
       "      <td>False</td>\n",
       "      <td>False</td>\n",
       "      <td>False</td>\n",
       "      <td>False</td>\n",
       "      <td>False</td>\n",
       "      <td>False</td>\n",
       "      <td>False</td>\n",
       "      <td>False</td>\n",
       "      <td>False</td>\n",
       "    </tr>\n",
       "    <tr>\n",
       "      <td>3</td>\n",
       "      <td>False</td>\n",
       "      <td>False</td>\n",
       "      <td>False</td>\n",
       "      <td>False</td>\n",
       "      <td>False</td>\n",
       "      <td>False</td>\n",
       "      <td>False</td>\n",
       "      <td>False</td>\n",
       "      <td>False</td>\n",
       "      <td>False</td>\n",
       "      <td>False</td>\n",
       "      <td>False</td>\n",
       "    </tr>\n",
       "    <tr>\n",
       "      <td>4</td>\n",
       "      <td>False</td>\n",
       "      <td>False</td>\n",
       "      <td>False</td>\n",
       "      <td>False</td>\n",
       "      <td>False</td>\n",
       "      <td>False</td>\n",
       "      <td>False</td>\n",
       "      <td>False</td>\n",
       "      <td>False</td>\n",
       "      <td>False</td>\n",
       "      <td>False</td>\n",
       "      <td>False</td>\n",
       "    </tr>\n",
       "    <tr>\n",
       "      <td>...</td>\n",
       "      <td>...</td>\n",
       "      <td>...</td>\n",
       "      <td>...</td>\n",
       "      <td>...</td>\n",
       "      <td>...</td>\n",
       "      <td>...</td>\n",
       "      <td>...</td>\n",
       "      <td>...</td>\n",
       "      <td>...</td>\n",
       "      <td>...</td>\n",
       "      <td>...</td>\n",
       "      <td>...</td>\n",
       "    </tr>\n",
       "    <tr>\n",
       "      <td>4891</td>\n",
       "      <td>False</td>\n",
       "      <td>False</td>\n",
       "      <td>False</td>\n",
       "      <td>False</td>\n",
       "      <td>False</td>\n",
       "      <td>False</td>\n",
       "      <td>False</td>\n",
       "      <td>False</td>\n",
       "      <td>False</td>\n",
       "      <td>False</td>\n",
       "      <td>False</td>\n",
       "      <td>False</td>\n",
       "    </tr>\n",
       "    <tr>\n",
       "      <td>4892</td>\n",
       "      <td>False</td>\n",
       "      <td>False</td>\n",
       "      <td>False</td>\n",
       "      <td>False</td>\n",
       "      <td>False</td>\n",
       "      <td>False</td>\n",
       "      <td>False</td>\n",
       "      <td>False</td>\n",
       "      <td>False</td>\n",
       "      <td>False</td>\n",
       "      <td>False</td>\n",
       "      <td>False</td>\n",
       "    </tr>\n",
       "    <tr>\n",
       "      <td>4893</td>\n",
       "      <td>False</td>\n",
       "      <td>False</td>\n",
       "      <td>False</td>\n",
       "      <td>False</td>\n",
       "      <td>False</td>\n",
       "      <td>False</td>\n",
       "      <td>False</td>\n",
       "      <td>False</td>\n",
       "      <td>False</td>\n",
       "      <td>False</td>\n",
       "      <td>False</td>\n",
       "      <td>False</td>\n",
       "    </tr>\n",
       "    <tr>\n",
       "      <td>4894</td>\n",
       "      <td>False</td>\n",
       "      <td>False</td>\n",
       "      <td>False</td>\n",
       "      <td>False</td>\n",
       "      <td>False</td>\n",
       "      <td>False</td>\n",
       "      <td>False</td>\n",
       "      <td>False</td>\n",
       "      <td>False</td>\n",
       "      <td>False</td>\n",
       "      <td>False</td>\n",
       "      <td>False</td>\n",
       "    </tr>\n",
       "    <tr>\n",
       "      <td>4895</td>\n",
       "      <td>False</td>\n",
       "      <td>False</td>\n",
       "      <td>False</td>\n",
       "      <td>False</td>\n",
       "      <td>False</td>\n",
       "      <td>False</td>\n",
       "      <td>False</td>\n",
       "      <td>False</td>\n",
       "      <td>False</td>\n",
       "      <td>False</td>\n",
       "      <td>False</td>\n",
       "      <td>False</td>\n",
       "    </tr>\n",
       "  </tbody>\n",
       "</table>\n",
       "<p>4736 rows × 12 columns</p>\n",
       "</div>"
      ],
      "text/plain": [
       "      fixed acidity  volatile acidity  citric acid  residual sugar  chlorides  \\\n",
       "0             False             False        False           False      False   \n",
       "1             False             False        False           False      False   \n",
       "2             False             False        False           False      False   \n",
       "3             False             False        False           False      False   \n",
       "4             False             False        False           False      False   \n",
       "...             ...               ...          ...             ...        ...   \n",
       "4891          False             False        False           False      False   \n",
       "4892          False             False        False           False      False   \n",
       "4893          False             False        False           False      False   \n",
       "4894          False             False        False           False      False   \n",
       "4895          False             False        False           False      False   \n",
       "\n",
       "      free sulfur dioxide  total sulfur dioxide  density     pH  sulphates  \\\n",
       "0                   False                 False    False  False      False   \n",
       "1                   False                 False    False  False      False   \n",
       "2                   False                 False    False  False      False   \n",
       "3                   False                 False    False  False      False   \n",
       "4                   False                 False    False  False      False   \n",
       "...                   ...                   ...      ...    ...        ...   \n",
       "4891                False                 False    False  False      False   \n",
       "4892                False                 False    False  False      False   \n",
       "4893                False                 False    False  False      False   \n",
       "4894                False                 False    False  False      False   \n",
       "4895                False                 False    False  False      False   \n",
       "\n",
       "      alcohol  quality  \n",
       "0       False    False  \n",
       "1       False    False  \n",
       "2       False    False  \n",
       "3       False    False  \n",
       "4       False    False  \n",
       "...       ...      ...  \n",
       "4891    False    False  \n",
       "4892    False    False  \n",
       "4893    False    False  \n",
       "4894    False    False  \n",
       "4895    False    False  \n",
       "\n",
       "[4736 rows x 12 columns]"
      ]
     },
     "execution_count": 15,
     "metadata": {},
     "output_type": "execute_result"
    }
   ],
   "source": [
    "# detect missing values\n",
    "# NaN as True, every other value including space as False\n",
    "df.isna()"
   ]
  },
  {
   "cell_type": "code",
   "execution_count": 16,
   "metadata": {},
   "outputs": [
    {
     "data": {
      "text/plain": [
       "(3859, 12)"
      ]
     },
     "execution_count": 16,
     "metadata": {},
     "output_type": "execute_result"
    }
   ],
   "source": [
    "#get the result in the form of a matrix but keep the firdt occurence of duplicate rows.\n",
    "df = df.drop_duplicates(keep='first') # remove duplicated values but only keep duplicates in first row\n",
    "df.shape                              # get the row and coloumn of the matrix after duplicates have been removed"
   ]
  },
  {
   "cell_type": "markdown",
   "metadata": {},
   "source": [
    "### Observation:  Now 3859 values are ready for visualization"
   ]
  },
  {
   "cell_type": "markdown",
   "metadata": {},
   "source": [
    "## Task 2: Visualise the data"
   ]
  },
  {
   "cell_type": "markdown",
   "metadata": {},
   "source": [
    "## Questions to be answered:\n",
    "### Question 1: Plot histogram and comment on your understanding.\n",
    "### Question 2: Calculate correlation with 'quality'. Which 3 attributes are most correlated with quality? For each of these 3 attributes, display a scatter plot of that attribute against quality. Comment on what you observe."
   ]
  },
  {
   "cell_type": "markdown",
   "metadata": {},
   "source": [
    "### Solution 1 is as follows:"
   ]
  },
  {
   "cell_type": "code",
   "execution_count": 17,
   "metadata": {},
   "outputs": [
    {
     "data": {
      "image/png": "[encoded data removed]",
      "text/plain": [
       "<Figure size 1080x1080 with 12 Axes>"
      ]
     },
     "metadata": {
      "needs_background": "light"
     },
     "output_type": "display_data"
    }
   ],
   "source": [
    "#plot the histogram using the hist keyword and display the findings.\n",
    "df.hist(bins = 30, figsize=(15,15), color='orange')   #assign the size of histogram\n",
    "plt.show()                                            # plot the histogram to visualize data"
   ]
  },
  {
   "cell_type": "markdown",
   "metadata": {},
   "source": [
    "### Observations:\n",
    "###### 1. A normal distribution is represented by wine quality data set with median at value 6.\n",
    "###### 2. On a normally distributed scale most wines lie between pH value of 2.8-3.6\n",
    "###### 3. A skewed distribution is represented by the attributes main attributes are chlorides, citric acid, density,residual sugar.\n",
    "###### 4. Scales of each attribute vary differently.\n",
    "###### 5. In resudual sugar and density outliesr possibility exist."
   ]
  },
  {
   "cell_type": "markdown",
   "metadata": {},
   "source": [
    "## Solution 2 solution is as follows:(Calculate correlation)"
   ]
  },
  {
   "cell_type": "code",
   "execution_count": 18,
   "metadata": {},
   "outputs": [
    {
     "data": {
      "text/plain": [
       "quality                 1.000000\n",
       "alcohol                 0.462462\n",
       "pH                      0.121414\n",
       "sulphates               0.053600\n",
       "free sulfur dioxide     0.010686\n",
       "citric acid             0.007488\n",
       "residual sugar         -0.118115\n",
       "fixed acidity          -0.126015\n",
       "total sulfur dioxide   -0.186236\n",
       "volatile acidity       -0.196401\n",
       "chlorides              -0.215595\n",
       "density                -0.337404\n",
       "Name: quality, dtype: float64"
      ]
     },
     "execution_count": 18,
     "metadata": {},
     "output_type": "execute_result"
    }
   ],
   "source": [
    "#plot the correlation matrix, with quality as the main value.\n",
    "corr_matrix = df.corr()                               # make the correlation matrix\n",
    "corr_matrix[\"quality\"].sort_values(ascending=False)   # print the matrix in descending order"
   ]
  },
  {
   "cell_type": "markdown",
   "metadata": {},
   "source": [
    "### Observation : \n",
    "#### 1.Most Positively correlated value : Alcohol\n",
    "#### 2. Most Negatively correlated value : Density\n",
    "#### 3. Second most negatively correlated value : Chlorides"
   ]
  },
  {
   "cell_type": "code",
   "execution_count": 19,
   "metadata": {
    "scrolled": true
   },
   "outputs": [
    {
     "data": {
      "text/plain": [
       "array([[<matplotlib.axes._subplots.AxesSubplot object at 0x00000153DFFF12C8>,\n",
       "        <matplotlib.axes._subplots.AxesSubplot object at 0x00000153E0054408>,\n",
       "        <matplotlib.axes._subplots.AxesSubplot object at 0x00000153E008A508>,\n",
       "        <matplotlib.axes._subplots.AxesSubplot object at 0x00000153DFAA1DC8>],\n",
       "       [<matplotlib.axes._subplots.AxesSubplot object at 0x00000153DFAD8748>,\n",
       "        <matplotlib.axes._subplots.AxesSubplot object at 0x00000153DFB12148>,\n",
       "        <matplotlib.axes._subplots.AxesSubplot object at 0x00000153DFB47E88>,\n",
       "        <matplotlib.axes._subplots.AxesSubplot object at 0x00000153DFB81F88>],\n",
       "       [<matplotlib.axes._subplots.AxesSubplot object at 0x00000153DFB8CB88>,\n",
       "        <matplotlib.axes._subplots.AxesSubplot object at 0x00000153DFBC5D48>,\n",
       "        <matplotlib.axes._subplots.AxesSubplot object at 0x00000153DFC2E308>,\n",
       "        <matplotlib.axes._subplots.AxesSubplot object at 0x00000153DFC673C8>],\n",
       "       [<matplotlib.axes._subplots.AxesSubplot object at 0x00000153DFCA0508>,\n",
       "        <matplotlib.axes._subplots.AxesSubplot object at 0x00000153DFCDA608>,\n",
       "        <matplotlib.axes._subplots.AxesSubplot object at 0x00000153DFD12708>,\n",
       "        <matplotlib.axes._subplots.AxesSubplot object at 0x00000153DFD4A848>]],\n",
       "      dtype=object)"
      ]
     },
     "execution_count": 19,
     "metadata": {},
     "output_type": "execute_result"
    },
    {
     "data": {
      "image/png": "[encoded data removed]",
      "text/plain": [
       "<Figure size 1080x720 with 16 Axes>"
      ]
     },
     "metadata": {
      "needs_background": "light"
     },
     "output_type": "display_data"
    }
   ],
   "source": [
    "# from pandas.tools.plotting import scatter_matrix \n",
    "#import scatter plot from pandas\n",
    "from pandas.plotting import scatter_matrix                      \n",
    "\n",
    "# define the attributes\n",
    "values = [\"quality\", \"alcohol\", \"chlorides\", \"density\"] \n",
    "\n",
    " #plot the scatter plot\n",
    "scatter_matrix(df[values], figsize=(15, 10))                   "
   ]
  },
  {
   "cell_type": "markdown",
   "metadata": {},
   "source": [
    "### Observations are as follows:\n",
    "##### 1. Alcolol- Strong Positive correlation-for 0.461% increase in volume wine quality increases by 1 unit.\n",
    "##### 2. Chlorides- strong negative corelation- 0.215 g / dm^3 decrease results in 1 unit increase in  wine quality .\n",
    "##### 3.Density - strong negative corelation-0.337 g / cm^3 decrease results in 1unit increase in wine quality ."
   ]
  },
  {
   "cell_type": "markdown",
   "metadata": {},
   "source": [
    "## To make specific scatter plots as follows:\n",
    "### Scatterplots of Alcohol , Chlorides and Density against quality."
   ]
  },
  {
   "cell_type": "markdown",
   "metadata": {},
   "source": [
    "### (a) Alcohol vs Quality : Strong positive correlation"
   ]
  },
  {
   "cell_type": "code",
   "execution_count": 20,
   "metadata": {},
   "outputs": [
    {
     "data": {
      "text/plain": [
       "Text(0, 0.5, 'quality')"
      ]
     },
     "execution_count": 20,
     "metadata": {},
     "output_type": "execute_result"
    },
    {
     "data": {
      "image/png": "[encoded data removed]",
      "text/plain": [
       "<Figure size 576x432 with 1 Axes>"
      ]
     },
     "metadata": {
      "needs_background": "light"
     },
     "output_type": "display_data"
    }
   ],
   "source": [
    "plt.figure(figsize=(8,6))                                        # determine figure size\n",
    "plt.scatter(df['alcohol'], df['quality'], c = 'g', alpha = 0.1)  # assign values to the  plot\n",
    "plt.xlabel('% of alcohol by volume')                             # define x axis\n",
    "plt.ylabel('quality')                                            # define y axis"
   ]
  },
  {
   "cell_type": "markdown",
   "metadata": {},
   "source": [
    "### Observation :\n",
    "#### 1.Wines that have rank 8 and above have alcohol content 10.5 - 14% by volume\n",
    "#### 2.For median quality wine i.e. rank 5-7 alcohol content is between 8.5 - 13.5%\n"
   ]
  },
  {
   "cell_type": "markdown",
   "metadata": {},
   "source": [
    "### (b) Density vs Quality : Strong Negative Correlation\n"
   ]
  },
  {
   "cell_type": "code",
   "execution_count": 21,
   "metadata": {},
   "outputs": [
    {
     "data": {
      "text/plain": [
       "Text(0, 0.5, 'quality')"
      ]
     },
     "execution_count": 21,
     "metadata": {},
     "output_type": "execute_result"
    },
    {
     "data": {
      "image/png": "[encoded data removed]",
      "text/plain": [
       "<Figure size 576x432 with 1 Axes>"
      ]
     },
     "metadata": {
      "needs_background": "light"
     },
     "output_type": "display_data"
    }
   ],
   "source": [
    "plt.figure(figsize=(8,6))                                              #determine figure size\n",
    "plt.scatter(df['density'], df['quality'], color = 'g', alpha = 0.1)    # assign values\n",
    "plt.xlabel('density')                                                  # label x axis\n",
    "plt.ylabel('quality')                                                  # label y axis"
   ]
  },
  {
   "cell_type": "markdown",
   "metadata": {},
   "source": [
    "### Observations :\n",
    "#### 1.Density and wine quality show a mild negative correlation .\n",
    "#### 2.The density range among all wines is around 0.01.\n",
    "#### 3.Wines with rank 5-7 i.e. median quality wines has density range 0.985 to 1.005\n",
    "#### 4.In high quality wines low density of 0.99 g / cm^3 is observed among all ranking.\n",
    "#### 5.With values of 1.04 g / cm^3 density , may be considered as an outlier value."
   ]
  },
  {
   "cell_type": "markdown",
   "metadata": {},
   "source": [
    "### (c) Chlorides vs Quality : Strong Negative correlation"
   ]
  },
  {
   "cell_type": "code",
   "execution_count": 22,
   "metadata": {},
   "outputs": [
    {
     "data": {
      "text/plain": [
       "Text(0, 0.5, 'quality')"
      ]
     },
     "execution_count": 22,
     "metadata": {},
     "output_type": "execute_result"
    },
    {
     "data": {
      "image/png": "[encoded data removed]",
      "text/plain": [
       "<Figure size 576x432 with 1 Axes>"
      ]
     },
     "metadata": {
      "needs_background": "light"
     },
     "output_type": "display_data"
    }
   ],
   "source": [
    "plt.figure(figsize=(8,6))                                       # determine figure size\n",
    "plt.scatter(df['chlorides'], df['quality'], c='g', alpha = 0.1) # assign values\n",
    "plt.xlabel('chlorides')                                         # label x axis\n",
    "plt.ylabel('quality')                                           # label y axis"
   ]
  },
  {
   "cell_type": "markdown",
   "metadata": {},
   "source": [
    "### Observations :\n",
    "#### 1.Major top quality wines  of rank 8-9 has sodium chloride content below 0.05 g / dm^3 and show a negative correlation.\n",
    "#### 2.Chloride content varies in median quality wines rank 5-7 from 0 to 0.35 g / dm^3, but majority stays around 0 to 0.1 g / dm^3.\n",
    "#### 3.Inspite of  negative correlation between chloride content in wine, low chloride content is observed inall quality of wines, especially most low quality wine has low chloride content as well."
   ]
  },
  {
   "cell_type": "markdown",
   "metadata": {},
   "source": [
    "## Task 3: Predicting wine quality: baseline"
   ]
  },
  {
   "cell_type": "markdown",
   "metadata": {},
   "source": [
    "### Aim : To perform predictions and do train-test split and use root mean squared error when evaluating our predictions. And  finally answer the following questions.\n",
    "### Questions :\n",
    "#### Question 1: What is the rmse for this predictor, when trained and tested on the training set?\n",
    "#### Question 2: Why do we use regression rather than classification to predict quality? Would there be any advantages to treating this as a classification problem instead? Explain your answer"
   ]
  },
  {
   "cell_type": "markdown",
   "metadata": {},
   "source": [
    "## Solution 1: Calculating RMSE"
   ]
  },
  {
   "cell_type": "code",
   "execution_count": 23,
   "metadata": {},
   "outputs": [],
   "source": [
    "x = df[['fixed acidity','volatile acidity','citric acid','chlorides','free sulfur dioxide','total sulfur dioxide','density','pH','sulphates','alcohol']]  # define  the attributes to be trained\n",
    "y = df['quality']    # define attribute to be trained against"
   ]
  },
  {
   "cell_type": "code",
   "execution_count": 24,
   "metadata": {},
   "outputs": [],
   "source": [
    "from sklearn.model_selection import train_test_split                                       #from sklearn impot traintest split module\n",
    "x_train, x_test, y_train, y_test = train_test_split(x,y, test_size = 0.2, random_state=42) # define the size and assign seed value and do the splitting"
   ]
  },
  {
   "cell_type": "code",
   "execution_count": 25,
   "metadata": {},
   "outputs": [
    {
     "name": "stdout",
     "output_type": "stream",
     "text": [
      "Wine quality median value of training data is : 6.0\n",
      "count    3087.000000\n",
      "mean        5.861030\n",
      "std         0.896342\n",
      "min         3.000000\n",
      "25%         5.000000\n",
      "50%         6.000000\n",
      "75%         6.000000\n",
      "max         9.000000\n",
      "Name: quality, dtype: float64\n"
     ]
    }
   ],
   "source": [
    "print('Wine quality median value of training data is :', y_train.median())   # print the median value\n",
    "print(y_train.describe())                                                    # describe the y train set"
   ]
  },
  {
   "cell_type": "code",
   "execution_count": 26,
   "metadata": {},
   "outputs": [
    {
     "name": "stdout",
     "output_type": "stream",
     "text": [
      "The RMSE of the trained dataset is: 0.8961968242053074\n"
     ]
    }
   ],
   "source": [
    "y_train_avg = y_train.copy()                                              # assign average value to a variable\n",
    "y_train_avg[:] = 5.86103                                                  # indicate the average  value\n",
    "import math as m                                                          # import math module\n",
    "from sklearn.metrics import mean_squared_error                            # import MSE\n",
    "RMSE = m.sqrt(mean_squared_error(y_true = y_train, y_pred = y_train_avg)) # calculate RMSE\n",
    "print('The RMSE of the trained dataset is:', RMSE)                        # print RMSE"
   ]
  },
  {
   "cell_type": "markdown",
   "metadata": {},
   "source": [
    "### Observation : The RMSE is 0.89"
   ]
  },
  {
   "cell_type": "markdown",
   "metadata": {},
   "source": [
    "### Solution 2: Why we use a regression model?\n",
    "Regression model is used to predict a continous value whereas a classification model predicts a discrete value . For wine quality data set is a ranking score mechanism for different weights of attributes and output is obtained in range of 0 to 10 . Hogh value means a good value . Thus wine quality can be viewed as a continous distribution and not a discrete one . Hence we may use a linear model for making predictions.\n",
    "But we see that quality response variable is a discreet value.It is expected that this may result in\n",
    "a less than optimal linear model due to the possible loss of fine-grained relationship information between the\n",
    "inputs and the response, due to the clustering of continuous response values into the discrete integer\n",
    "rankings.But,on the other hand, a classification algorithm is used in predicting a continuous value, the continuous value is\n",
    "in the form of a probability for a class label, it is possible could be an advantage for analyse."
   ]
  },
  {
   "cell_type": "markdown",
   "metadata": {},
   "source": [
    "## Task 4 : Predicting wine quality"
   ]
  },
  {
   "cell_type": "markdown",
   "metadata": {},
   "source": [
    "### Aim : To fit a linear regression model to the wine data set and examine its validity on the training data. Use tow more models KNN and Decision  Tree and test their validity.\n",
    "#### To include :\n",
    "##### 1. The rmse obtained using each model on the training data, for each of the various settings you tried.\n",
    "##### 2. A plot of the results, showing some combination of actual quality, predicted quality and/or errors.\n",
    "##### 3. Some comment on how the errors compare and why you think this might be the case."
   ]
  },
  {
   "cell_type": "markdown",
   "metadata": {},
   "source": [
    "### (a) Linear Regression Model"
   ]
  },
  {
   "cell_type": "code",
   "execution_count": 27,
   "metadata": {},
   "outputs": [],
   "source": [
    "from sklearn.linear_model import LinearRegression     # import linear regression model from sklearn library\n",
    "lin_model = sklearn.linear_model.LinearRegression()   # assign a variable\n",
    "lin_model.fit(x_train, y_train)                       # fit the model\n",
    "lin_model_yhat = lin_model.predict(x_train)           # do predictions"
   ]
  },
  {
   "cell_type": "code",
   "execution_count": 28,
   "metadata": {},
   "outputs": [
    {
     "name": "stdout",
     "output_type": "stream",
     "text": [
      "0.7554955259218671\n"
     ]
    }
   ],
   "source": [
    "from sklearn.metrics import mean_squared_error               #include MSE from sklearn\n",
    "from math import sqrt                                        # import the square root function\n",
    "lin_rmse = sqrt(mean_squared_error(y_train, lin_model_yhat)) #calculate RMSE\n",
    "print(lin_rmse)                                              # print the output"
   ]
  },
  {
   "cell_type": "markdown",
   "metadata": {},
   "source": [
    "### Observations: \n",
    "#### 1. RMSE is observed to be 0.755, which is slightly better than pre-trained RMSE 0.896 by 0.141\n",
    "#### 2.Linear model result from the linear regression says that the response variable quality can be explained as:= - 25.10507314 - 7.24190868 ( fixed acidity ) -1.79665806 ( volatile acidity ) + 1.35382655 ( citricacid ) -1.0775364 ( chlorides ) + 6.31156648 ( free sulfur dioxide ) -1.5945399 ( total sulfur dioxide )+ 2.73100377 ( density ) + 1.86932707 ( pH ) + 3.59257075 ( sulphates ) + 3.82365469 ( alcohol )"
   ]
  },
  {
   "cell_type": "markdown",
   "metadata": {},
   "source": [
    "### Linear Model plotting actual quality VS predicted quality"
   ]
  },
  {
   "cell_type": "code",
   "execution_count": 57,
   "metadata": {},
   "outputs": [
    {
     "data": {
      "text/plain": [
       "[<matplotlib.lines.Line2D at 0x153df3ea0c8>]"
      ]
     },
     "execution_count": 57,
     "metadata": {},
     "output_type": "execute_result"
    },
    {
     "data": {
      "image/png": "[encoded data removed]",
      "text/plain": [
       "<Figure size 576x432 with 1 Axes>"
      ]
     },
     "metadata": {
      "needs_background": "light"
     },
     "output_type": "display_data"
    }
   ],
   "source": [
    " # indicate figure size\n",
    "plt.figure(figsize=(8,6)) \n",
    "\n",
    "# assign values to scatter plot\n",
    "plt.scatter(y_train, lin_model_yhat, color = 'g',alpha=0.1)\n",
    "\n",
    "# label x axis\n",
    "plt.xlabel('Actual Values') \n",
    "\n",
    " # label y axis\n",
    "plt.ylabel('Linear Model Predictions')  \n",
    "\n",
    "# give a title\n",
    "plt.title('Linear Model actual value and predicted value compare and plot')\n",
    "\n",
    "# enter the range of values\n",
    "a = range(3,10,1)                                                      \n",
    "b = range(3,10,1)\n",
    "\n",
    "# plot the graph\n",
    "plt.plot(a,b, color = 'r', label='True = Predict', alpha = 0.5)        "
   ]
  },
  {
   "cell_type": "markdown",
   "metadata": {},
   "source": [
    "### Observations :( Comparing errors)\n",
    "#### 1,We observe that linear model overrates low quality wines and underrates high quality wines.\n",
    "#### 2.Highest residuals of linear model is observed at rank 4-7\n",
    "#### 3.Residuals in high quality wines are narrowed in high quality wine (rank 8, 9)\n",
    "#### 4.Because of smaller training samples samller errors are observed."
   ]
  },
  {
   "cell_type": "code",
   "execution_count": 30,
   "metadata": {},
   "outputs": [
    {
     "data": {
      "text/plain": [
       "<matplotlib.axes._subplots.AxesSubplot at 0x153df56c188>"
      ]
     },
     "execution_count": 30,
     "metadata": {},
     "output_type": "execute_result"
    },
    {
     "data": {
      "image/png": "[encoded data removed]",
      "text/plain": [
       "<Figure size 576x432 with 1 Axes>"
      ]
     },
     "metadata": {
      "needs_background": "light"
     },
     "output_type": "display_data"
    }
   ],
   "source": [
    "plt.figure(figsize=(8,6))                                  # assign figure size\n",
    "plt.xlabel('Quality of Wine')                              # label x axis\n",
    "plt.ylabel('Residual Value')                               # label y axis\n",
    "sns.residplot(y_train, lin_model_yhat, color = 'blue')     # plot the residual graph"
   ]
  },
  {
   "cell_type": "markdown",
   "metadata": {},
   "source": [
    "### (b)  K Nearest Neighbour Regression model"
   ]
  },
  {
   "cell_type": "code",
   "execution_count": 31,
   "metadata": {},
   "outputs": [
    {
     "name": "stdout",
     "output_type": "stream",
     "text": [
      "neighbours are: 1 neighbor_rmse: 0.0\n",
      "neighbours are: 2 neighbor_rmse: 0.5340677644879082\n",
      "neighbours are: 3 neighbor_rmse: 0.6204124729664264\n",
      "neighbours are: 4 neighbor_rmse: 0.6676074508682557\n",
      "neighbours are: 5 neighbor_rmse: 0.6934185489980711\n",
      "neighbours are: 6 neighbor_rmse: 0.7107116427389132\n",
      "neighbours are: 7 neighbor_rmse: 0.7221740365807602\n",
      "neighbours are: 8 neighbor_rmse: 0.7333758491076876\n",
      "neighbours are: 9 neighbor_rmse: 0.7416499117621306\n",
      "neighbours are: 10 neighbor_rmse: 0.7464981414703313\n"
     ]
    }
   ],
   "source": [
    "from sklearn.neighbors import KNeighborsRegressor                                # import KNN model\n",
    "for g in range(1,11,1):                                                          # assign value in range\n",
    "    neighbor = KNeighborsRegressor(n_neighbors= g)                               # assign neighbours\n",
    "    neighbor.fit(x_train, y_train)                                               # fit the model\n",
    "    neighbor_yhat = neighbor.predict(x_train)                                    # make predictions\n",
    "    neighbor_rmse = sqrt(mean_squared_error(y_train, neighbor_yhat))             # calculate error\n",
    "    print('neighbours are: ' + str(g) + ' neighbor_rmse: ' + str(neighbor_rmse)) # print neighbour values"
   ]
  },
  {
   "cell_type": "code",
   "execution_count": 32,
   "metadata": {},
   "outputs": [
    {
     "data": {
      "text/plain": [
       "Text(0, 0.5, 'K_nearest_neighbors_Regressor_RMSE')"
      ]
     },
     "execution_count": 32,
     "metadata": {},
     "output_type": "execute_result"
    },
    {
     "data": {
      "image/png": "[encoded data removed]",
      "text/plain": [
       "<Figure size 576x432 with 1 Axes>"
      ]
     },
     "metadata": {
      "needs_background": "light"
     },
     "output_type": "display_data"
    }
   ],
   "source": [
    "# assign figure size\n",
    "plt.figure(figsize=(8,6))\n",
    "#create empty list\n",
    "list_rmse = []\n",
    "#enter a range\n",
    "for g in range(1,11,1):\n",
    "    #call KNN function\n",
    "    neighbor = KNeighborsRegressor(n_neighbors= g)\n",
    "    #perform fitting\n",
    "    neighbor.fit(x_train, y_train)\n",
    "    #do predictions\n",
    "    neighbor_yhat = neighbor.predict(x_train)\n",
    "    #calculate RMSE\n",
    "    neighbor_rmse = sqrt(mean_squared_error(y_train, neighbor_yhat))\n",
    "    #append value to list\n",
    "    list_rmse.append(neighbor_rmse)\n",
    "o = range(10)\n",
    "p = list_rmse\n",
    "# plot the graph\n",
    "plt.plot(o,p,color='r')\n",
    "#give title\n",
    "plt.title('RMSE value & n_nearest_neighbors ')\n",
    "#lable x axis\n",
    "plt.xlabel('n_nearest_neighbors')\n",
    "#lable y axis\n",
    "plt.ylabel('K_nearest_neighbors_Regressor_RMSE')"
   ]
  },
  {
   "cell_type": "code",
   "execution_count": 33,
   "metadata": {},
   "outputs": [
    {
     "data": {
      "text/plain": [
       "0.7464981414703313"
      ]
     },
     "execution_count": 33,
     "metadata": {},
     "output_type": "execute_result"
    }
   ],
   "source": [
    "#call KNN function\n",
    "neighbor3 = KNeighborsRegressor(n_neighbors= 3)\n",
    "#fit the model\n",
    "neighbor3.fit(x_train, y_train)\n",
    "#do predictions\n",
    "neighbor_yhat3 = neighbor3.predict(x_train)\n",
    "#calculate RMSE\n",
    "neighbor_rmse3 = sqrt(mean_squared_error(y_train, neighbor_yhat))\n",
    "#print RMSE\n",
    "neighbor_rmse3"
   ]
  },
  {
   "cell_type": "markdown",
   "metadata": {},
   "source": [
    "### Observations : \n",
    "#### 1.From running the KNeighbor Regressor model below, the lower n_neighbors may lower the error, yetresult in a overfitting model. The higher n_neighbor increases the error may result in underfitting model.\n",
    "#### 2.Therefore we plot the graph of showing relation between n_neighbors and errors.n_neighbors = 3 is chosen as it is the optimised one"
   ]
  },
  {
   "cell_type": "markdown",
   "metadata": {},
   "source": [
    "###  KNN actual quality and predicted quality comparision and then plot a graph"
   ]
  },
  {
   "cell_type": "code",
   "execution_count": 34,
   "metadata": {},
   "outputs": [
    {
     "data": {
      "text/plain": [
       "[<matplotlib.lines.Line2D at 0x153dff48d08>]"
      ]
     },
     "execution_count": 34,
     "metadata": {},
     "output_type": "execute_result"
    },
    {
     "data": {
      "image/png": "[encoded data removed]",
      "text/plain": [
       "<Figure size 432x288 with 1 Axes>"
      ]
     },
     "metadata": {
      "needs_background": "light"
     },
     "output_type": "display_data"
    }
   ],
   "source": [
    "#give figure size\n",
    "plt.figure(figsize=(6,4)) \n",
    "\n",
    "#call KNN function\n",
    "neighbor3 = KNeighborsRegressor(n_neighbors= 3)\n",
    "\n",
    "#fit the model\n",
    "neighbor3.fit(x_train, y_train)\n",
    "\n",
    "#do predictions\n",
    "neighbor_yhat3 = neighbor.predict(x_train)\n",
    "\n",
    "#plot scatter plot\n",
    "plt.scatter(y_train, neighbor_yhat3, c='b', alpha = 0.1)\n",
    "\n",
    "#lable x axis\n",
    "plt.xlabel('Actual Values')\n",
    "\n",
    "#label y axis\n",
    "plt.ylabel('KNeigbours Regressor Prediction')\n",
    "\n",
    "#give relevant title\n",
    "plt.title('KNeighbors Regressor True Values VS Prediction')\n",
    "q = range(3,10,1)\n",
    "r = range(3,10,1)\n",
    "\n",
    "#plot the graph\n",
    "plt.plot(q,r, color = 'r', label='True = Predict', alpha = 0.3)"
   ]
  },
  {
   "cell_type": "markdown",
   "metadata": {},
   "source": [
    "### Observations ( comparing errors) :\n",
    "#### 1.For K_nearest_Neighbor neighbor = 3, RMSE = 0.6204\n",
    "#### 2.KNeighbors regressor models tends to overrate low quality wine and underrate high quality wines\n",
    "#### 3.Highest residual is observed at rank 4-7\n",
    "#### 4.Residuals in high quality wines are narrowed in high quality wine (ranking 8, 9), and low quality wine(rank 3 & 4)\n",
    "#### 5.Overrating and underrating are even in KNeighbor Regressor model for rank 4-7, and slight varies among other group\n",
    "#### 6.As samples of both high and low quality wines are small thus errors are also small."
   ]
  },
  {
   "cell_type": "code",
   "execution_count": 35,
   "metadata": {},
   "outputs": [
    {
     "data": {
      "text/plain": [
       "<matplotlib.axes._subplots.AxesSubplot at 0x153dfa25988>"
      ]
     },
     "execution_count": 35,
     "metadata": {},
     "output_type": "execute_result"
    },
    {
     "data": {
      "image/png": "[encoded data removed]",
      "text/plain": [
       "<Figure size 576x432 with 1 Axes>"
      ]
     },
     "metadata": {
      "needs_background": "light"
     },
     "output_type": "display_data"
    }
   ],
   "source": [
    "plt.figure(figsize=(8,6))\n",
    "plt.xlabel('Wine quality')\n",
    "plt.ylabel('Residual')\n",
    "sns.residplot(y_train, neighbor_yhat3, color = 'blue')"
   ]
  },
  {
   "cell_type": "markdown",
   "metadata": {},
   "source": [
    "### (c)  Decision Tree Model"
   ]
  },
  {
   "cell_type": "code",
   "execution_count": 36,
   "metadata": {},
   "outputs": [
    {
     "name": "stdout",
     "output_type": "stream",
     "text": [
      "depth: 1 RMSE 0.8156167049610856\n",
      "depth: 2 RMSE 0.7785346857016499\n",
      "depth: 3 RMSE 0.7573165883099799\n",
      "depth: 4 RMSE 0.7331751081584575\n",
      "depth: 5 RMSE 0.7079438939715375\n",
      "depth: 6 RMSE 0.6793311882247409\n",
      "depth: 7 RMSE 0.6502999807592407\n",
      "depth: 8 RMSE 0.6136624117331353\n",
      "depth: 9 RMSE 0.5699564777184936\n",
      "depth: 10 RMSE 0.5198453807496068\n",
      "depth: 11 RMSE 0.4638445153424507\n",
      "depth: 12 RMSE 0.4076169370791423\n",
      "depth: 13 RMSE 0.3520405259253414\n",
      "depth: 14 RMSE 0.2983718867492385\n",
      "depth: 15 RMSE 0.24687651904572494\n",
      "depth: 16 RMSE 0.19322536703053372\n",
      "depth: 17 RMSE 0.14482528045429738\n",
      "depth: 18 RMSE 0.11402591072906278\n",
      "depth: 19 RMSE 0.0831074962555908\n",
      "depth: 20 RMSE 0.06651061462702168\n",
      "depth: 21 RMSE 0.057265606746280284\n",
      "depth: 22 RMSE 0.04916686584747983\n",
      "depth: 23 RMSE 0.0383213245791884\n",
      "depth: 24 RMSE 0.0239299128840749\n",
      "depth: 25 RMSE 0.016098176280543174\n",
      "depth: 26 RMSE 0.0\n"
     ]
    }
   ],
   "source": [
    "from sklearn.tree import DecisionTreeRegressor                                        #import decision tree model\n",
    "for attribute in range(1, 27, 1):                                                     # enter values \n",
    "    tree_model_test = sklearn.tree.DecisionTreeRegressor(max_depth=attribute)         # assign variable\n",
    "    tree_model_test.fit(x_train, y_train)                                             # fit the model \n",
    "    y_prediction_test = tree_model_test.predict(x_train)                              # make predictions\n",
    "    RMSE = sqrt(mean_squared_error(y_true = y_train, y_pred = y_prediction_test       # calculate the RMSE\n",
    "    ))\n",
    "    print('depth: ' + str(attribute) + ' RMSE ' + str(RMSE))                          # print the value"
   ]
  },
  {
   "cell_type": "markdown",
   "metadata": {},
   "source": [
    "### Observation : \n",
    "#### 1.To avoid overfitting, we try to plot the RMSE at depth levels from 1-27 to find the optimal depth level\n",
    "#### 2.It shows a mild reverse sigmoid curve"
   ]
  },
  {
   "cell_type": "code",
   "execution_count": 37,
   "metadata": {},
   "outputs": [],
   "source": [
    "#make empty list\n",
    "RMSE_lst=[]\n",
    "#append values in list\n",
    "for attribute in range(1, 25, 1):\n",
    "    tree_test = sklearn.tree.DecisionTreeRegressor(max_depth=attribute)\n",
    "    tree_test.fit(x_train, y_train)\n",
    "    y_prediction_test = tree_test.predict(x_train)\n",
    "    RMSE = sqrt(mean_squared_error(y_true = y_train, y_pred = y_prediction_test\n",
    "    ))\n",
    "    #print RMSE\n",
    "    RMSE_lst.append(RMSE)"
   ]
  },
  {
   "cell_type": "code",
   "execution_count": 38,
   "metadata": {},
   "outputs": [
    {
     "data": {
      "text/plain": [
       "Text(0.5, 1.0, 'RMSE in depth level of decision tree')"
      ]
     },
     "execution_count": 38,
     "metadata": {},
     "output_type": "execute_result"
    },
    {
     "data": {
      "image/png": "[encoded data removed]",
      "text/plain": [
       "<Figure size 576x432 with 1 Axes>"
      ]
     },
     "metadata": {
      "needs_background": "light"
     },
     "output_type": "display_data"
    }
   ],
   "source": [
    "plt.figure(figsize=(8,6))\n",
    "r = range(24)\n",
    "plt.plot(r, RMSE_lst)\n",
    "plt.xlabel('Depth Level of Decision tree')\n",
    "plt.ylabel('RMSE')\n",
    "plt.title('RMSE in depth level of decision tree')"
   ]
  },
  {
   "cell_type": "markdown",
   "metadata": {},
   "source": [
    "### Observation :\n",
    "#### Depth level of 8 is chosen after this point RMSE value declines steeply.This graph represents a reverse sigmoid grapg with a negative slope"
   ]
  },
  {
   "cell_type": "code",
   "execution_count": 39,
   "metadata": {},
   "outputs": [
    {
     "name": "stdout",
     "output_type": "stream",
     "text": [
      "The RMSE value is: 0.6137283929793296\n"
     ]
    }
   ],
   "source": [
    "tree_test_new = sklearn.tree.DecisionTreeRegressor(max_depth=8)                   # assign a variable\n",
    "tree_test_new.fit(x_train, y_train)                                               # fit the model\n",
    "y_prediction_test_new = tree_test_new.predict(x_train)                            # train the model\n",
    "RMSE = sqrt(mean_squared_error(y_true = y_train, y_pred = y_prediction_test_new)) #calculate the RMSE value\n",
    "print(\"The RMSE value is:\" , RMSE)                                                # print the RMSE value"
   ]
  },
  {
   "cell_type": "markdown",
   "metadata": {},
   "source": [
    "### Decision Tree Regressor Model plotting actual quality VS predicted quality"
   ]
  },
  {
   "cell_type": "code",
   "execution_count": 40,
   "metadata": {},
   "outputs": [
    {
     "data": {
      "text/plain": [
       "[<matplotlib.lines.Line2D at 0x153df0a6c48>]"
      ]
     },
     "execution_count": 40,
     "metadata": {},
     "output_type": "execute_result"
    },
    {
     "data": {
      "image/png": "[encoded data removed]",
      "text/plain": [
       "<Figure size 576x432 with 1 Axes>"
      ]
     },
     "metadata": {
      "needs_background": "light"
     },
     "output_type": "display_data"
    }
   ],
   "source": [
    "plt.figure(figsize=(8,6))                                             # assign size                                        \n",
    "plt.scatter(y_train, y_prediction_test_new, c='b', alpha = 0.08)      # assign configurations\n",
    "plt.xlabel('Actual Value')                                            #label x axis\n",
    "plt.ylabel('Decision Tree Model Prediction')                          # label y axis\n",
    "u = range(3,10,1)                                                     # enter range\n",
    "v = range(3,10,1)\n",
    "plt.plot(u,v, color = 'r', label='True = Predict', alpha = 0.3)       # plot the Graph"
   ]
  },
  {
   "cell_type": "markdown",
   "metadata": {},
   "source": [
    "### Observations : (Compare Errors)\n",
    "#### 1.RMSE of Decision tree has lower value than linear model and KNN model\n",
    "#### 2.Decision tree  model overrates low quality wine and underrates high quality wine.\n",
    "#### 3.Because of over fitting small errors occur\n"
   ]
  },
  {
   "cell_type": "code",
   "execution_count": 41,
   "metadata": {},
   "outputs": [
    {
     "data": {
      "text/plain": [
       "<matplotlib.axes._subplots.AxesSubplot at 0x153df689f08>"
      ]
     },
     "execution_count": 41,
     "metadata": {},
     "output_type": "execute_result"
    },
    {
     "data": {
      "image/png": "[encoded data removed]",
      "text/plain": [
       "<Figure size 576x432 with 1 Axes>"
      ]
     },
     "metadata": {
      "needs_background": "light"
     },
     "output_type": "display_data"
    }
   ],
   "source": [
    "plt.figure(figsize=(8,6))                                      # assign size\n",
    "plt.xlabel('Wine quality')                                     # label x axis\n",
    "plt.ylabel('Residual value')                                         # label y axis\n",
    "sns.residplot(y_train, y_prediction_test_new, color = 'blue')  # plot the graph"
   ]
  },
  {
   "cell_type": "markdown",
   "metadata": {},
   "source": [
    "## Task 5: Cross validation\n"
   ]
  },
  {
   "cell_type": "markdown",
   "metadata": {},
   "source": [
    "## Comparing Models (RMSE and Cross Validation) :\n",
    "### (a) Linear Model"
   ]
  },
  {
   "cell_type": "code",
   "execution_count": 42,
   "metadata": {},
   "outputs": [
    {
     "name": "stdout",
     "output_type": "stream",
     "text": [
      "For linear regression model:\n",
      "RMSE: 0.7554955259218671\n",
      "CV Scores: [0.7688     0.7444427  0.77996847 0.7288205  0.76103866 0.79906157\n",
      " 0.74138741 0.78190409 0.74433912 0.7360522 ]\n",
      "Mean: 0.7585814722003729\n",
      "Standard deviation: 0.02200479787095591\n",
      "CV scores is higher than RMSE by:  0.00308594627850578\n"
     ]
    }
   ],
   "source": [
    "# import cross validation\n",
    "from sklearn.model_selection import cross_val_score\n",
    "\n",
    "#mark the scores and ass=ign variables\n",
    "scores_lin_model = cross_val_score(lin_model, x_train, y_train, scoring = 'neg_mean_squared_error', cv =10)\n",
    "\n",
    "# perform square root function\n",
    "lin_model_scores = np.sqrt(-scores_lin_model)\n",
    "\n",
    "# write print statements\n",
    "print('For linear regression model:')         \n",
    "print('RMSE:', lin_rmse)\n",
    "print('CV Scores:', lin_model_scores)\n",
    "print('Mean:', lin_model_scores.mean())\n",
    "print('Standard deviation:', lin_model_scores.std())\n",
    "print('CV scores is higher than RMSE by: ', lin_model_scores.mean()-lin_rmse )"
   ]
  },
  {
   "cell_type": "markdown",
   "metadata": {},
   "source": [
    "### Observation: \n",
    "#### 1. RMSE and CV scores for linear model are almost similar, Crossvalidation is higher by 0.003 and linear model is about 0.75\n",
    "#### 2. Cross validation splits the data in 10 splits as each set is tested against 9 other sets high error is observed"
   ]
  },
  {
   "cell_type": "markdown",
   "metadata": {},
   "source": [
    "### (b) K Nearest Neighbour"
   ]
  },
  {
   "cell_type": "code",
   "execution_count": 43,
   "metadata": {},
   "outputs": [
    {
     "data": {
      "text/plain": [
       "Text(0, 0.5, 'KNN_CV scores')"
      ]
     },
     "execution_count": 43,
     "metadata": {},
     "output_type": "execute_result"
    },
    {
     "data": {
      "image/png": "[encoded data removed]",
      "text/plain": [
       "<Figure size 432x288 with 1 Axes>"
      ]
     },
     "metadata": {
      "needs_background": "light"
     },
     "output_type": "display_data"
    }
   ],
   "source": [
    "# make an empty list\n",
    "list_neigh_scores = []\n",
    "\n",
    "# iterate through loop\n",
    "for v in range(1,11,1):\n",
    "    #assign variable\n",
    "    neigh = KNeighborsRegressor(n_neighbors= v)    \n",
    "    # fit the model\n",
    "    neigh.fit(x_train, y_train)                    \n",
    "     # do predictions\n",
    "    neigh_yhat = neigh.predict(x_train)           \n",
    "    scores_neigh = cross_val_score(neigh, x_train, y_train, scoring = 'neg_mean_squared_error', cv =10)\n",
    "    # compute sruare root\n",
    "    neigh_scores = np.sqrt(-scores_neigh)  \n",
    "    #calculate mean\n",
    "    neigh_scores_mean = neigh_scores.mean()\n",
    "    # append values to list\n",
    "    list_neigh_scores.append(neigh_scores_mean)  \n",
    "# Enter range of values\n",
    "v = range(10)\n",
    "w = list_neigh_scores\n",
    "# plot the graph\n",
    "plt.plot(v,w,color='b')\n",
    "#give title\n",
    "plt.title('Cross Validation Scores & n_nearest_neighbors ')\n",
    "# assign x axis\n",
    "plt.xlabel('n_nearest_neighbors')\n",
    "#assign y axis\n",
    "plt.ylabel('KNN_CV scores')"
   ]
  },
  {
   "cell_type": "markdown",
   "metadata": {},
   "source": [
    "### Observations :\n",
    "#### 1.As n_nearest_neighbor increases crossvalidation increases\n",
    "#### 2.n_nearest_neighbors = 3 is considered as as optimal point in cross validation"
   ]
  },
  {
   "cell_type": "markdown",
   "metadata": {},
   "source": [
    "### KNeighbors Regressor Cross Validation comparison"
   ]
  },
  {
   "cell_type": "code",
   "execution_count": 44,
   "metadata": {},
   "outputs": [
    {
     "name": "stdout",
     "output_type": "stream",
     "text": [
      "For KNeighbors Regressor (n_nearest_neighbors = 3):\n",
      "RMSE : 0.7464981414703313\n",
      "CrossVal scores: [0.93611083 0.91964066 0.84058335 0.85899015 0.85353086 0.91198422\n",
      " 0.89084198 0.87245817 0.90592884 0.89046577]\n",
      "CrossVal score mean: 0.8880534825980291\n",
      "CrossVal score standard deviation: 0.02957393821008179\n",
      "CrossVal scores is higher than RMSE by: 0.14155534112769774\n"
     ]
    }
   ],
   "source": [
    "# assign values\n",
    "scores_neigh3cv = cross_val_score(neighbor3, x_train, y_train, scoring = 'neg_mean_squared_error', cv =10)\n",
    "#compute square\n",
    "neighbor_scores3cv = np.sqrt(-scores_neigh3cv)\n",
    "#assign print statements\n",
    "print('For KNeighbors Regressor (n_nearest_neighbors = 3):')\n",
    "#printRMSE\n",
    "print('RMSE :', neighbor_rmse3)\n",
    "#print CrossVal scores\n",
    "print('CrossVal scores:', neighbor_scores3cv)\n",
    "#print CrossVal mean\n",
    "print('CrossVal score mean:', neighbor_scores3cv.mean())\n",
    "#print CrossVal standard deviation\n",
    "print('CrossVal score standard deviation:', neighbor_scores3cv.std())\n",
    "# now compare values\n",
    "print('CrossVal scores is higher than RMSE by:', neighbor_scores3cv.mean()- neighbor_rmse3)"
   ]
  },
  {
   "cell_type": "markdown",
   "metadata": {},
   "source": [
    "### Observations : \n",
    "#### 1.n_nearest_neighors = 3 used in both RMSE and Crass Validation score\n",
    "#### 2.Difference between CrossVal scores (0.888) and RMSE (0.745) is 0.14155, which is slightly higher than linear model"
   ]
  },
  {
   "cell_type": "markdown",
   "metadata": {},
   "source": [
    "### (c) Decision Tree Model "
   ]
  },
  {
   "cell_type": "code",
   "execution_count": 45,
   "metadata": {},
   "outputs": [],
   "source": [
    "\n",
    "#create an empty list\n",
    "tree_score_lst=[]\n",
    "#enter a range of values\n",
    "for value in range(1, 25, 1):\n",
    "    #set depth of decision tree\n",
    "    tree_model_test = sklearn.tree.DecisionTreeRegressor(max_depth=value)\n",
    "    #fit the model\n",
    "    tree_model_test.fit(x_train, y_train)\n",
    "    #make predictions\n",
    "    y_prediction_test = tree_model_test.predict(x_train)\n",
    "    # calculate the scores\n",
    "    scores_tree = cross_val_score(tree_model_test, x_train, y_train, scoring ='neg_mean_squared_error', cv =10)\n",
    "    #compute squareroot\n",
    "    tree_rmse_scores = np.sqrt(-scores_tree)\n",
    "    #calculate RMSE\n",
    "    tree_rmse_scores_mean = tree_rmse_scores.mean()\n",
    "    #append value to the list\n",
    "    tree_score_lst.append(tree_rmse_scores_mean)"
   ]
  },
  {
   "cell_type": "code",
   "execution_count": 46,
   "metadata": {},
   "outputs": [
    {
     "data": {
      "text/plain": [
       "Text(0.5, 1.0, 'Depth level DecisionTree crossvalidation score')"
      ]
     },
     "execution_count": 46,
     "metadata": {},
     "output_type": "execute_result"
    },
    {
     "data": {
      "image/png": "[encoded data removed]",
      "text/plain": [
       "<Figure size 432x288 with 1 Axes>"
      ]
     },
     "metadata": {
      "needs_background": "light"
     },
     "output_type": "display_data"
    }
   ],
   "source": [
    "r= range(24)         #enter range \n",
    "t= tree_score_lst    # assign variable\n",
    "plt.plot(r,t)        #plot the graph\n",
    "plt.xlabel('DecisionTree depth levels')   #label x axis  \n",
    "plt.ylabel('Cross Validation Score')      #label y axis\n",
    "plt.title('Depth level DecisionTree crossvalidation score') #give a relevant title\n"
   ]
  },
  {
   "cell_type": "markdown",
   "metadata": {},
   "source": [
    "### Observation and error compare :\n",
    "#### 1.Decision tree cross validation score graph indicates clearly that the cv score hits the lowest at depth level 4\n",
    "#### 2.Run RMSE at depth 4 for comparision\n",
    "#### 3.Result shows both error stay similarly, RMSE 0.733 and cv scores 0.771, with 0.03 slightly higher in cross validation"
   ]
  },
  {
   "cell_type": "code",
   "execution_count": 47,
   "metadata": {},
   "outputs": [
    {
     "data": {
      "text/plain": [
       "array([0.81139798, 0.78025118, 0.73408693, 0.73593155, 0.73881779,\n",
       "       0.82576762, 0.74671154, 0.77642168, 0.79385361, 0.77350415])"
      ]
     },
     "execution_count": 47,
     "metadata": {},
     "output_type": "execute_result"
    }
   ],
   "source": [
    "#call decision tree regressor at depth 4\n",
    "tree_model_test4 = sklearn.tree.DecisionTreeRegressor(max_depth=4)\n",
    "#do cross vaidation\n",
    "scores_tree4 = cross_val_score(tree_model_test4, x_train, y_train, scoring = 'neg_mean_squared_error', cv =10)\n",
    "# obtain square root\n",
    "tree_rmse_scores4 = np.sqrt(-scores_tree4)\n",
    "#print the values\n",
    "tree_rmse_scores4"
   ]
  },
  {
   "cell_type": "code",
   "execution_count": 48,
   "metadata": {},
   "outputs": [
    {
     "name": "stdout",
     "output_type": "stream",
     "text": [
      "For decision model depth level = 4:\n",
      "RMSE : 0.7331751081584575\n",
      "CrossVal scores : [0.81139798 0.78025118 0.73408693 0.73593155 0.73881779 0.82576762\n",
      " 0.74671154 0.77642168 0.79385361 0.77350415]\n",
      "CrossV score mean: 0.7716744018382082\n",
      "CrossVal score standard deviation: 0.03080336418185851\n",
      "CrossVal scores is higher than RMSE by: 0.03849929367975069\n"
     ]
    }
   ],
   "source": [
    "# call the decision tree regressor model\n",
    "tree_model_test4 = sklearn.tree.DecisionTreeRegressor(max_depth=4)\n",
    "# fit the model\n",
    "tree_model_test4.fit(x_train, y_train)\n",
    "# do predictions\n",
    "y_prediction_test4 = tree_model_test4.predict(x_train)\n",
    "#Running cv scores for max_depth = 4\n",
    "scores_tree4 = cross_val_score(tree_model_test4, x_train, y_train, scoring = 'neg_mean_squared_error', cv =10)\n",
    "#obtain square root\n",
    "tree_rmse_scores4 = np.sqrt(-scores_tree4)\n",
    "#Running RMSE for max_depth = 4\n",
    "tree_RMSE4 = sqrt(mean_squared_error(y_true = y_train, y_pred = y_prediction_test4))\n",
    "# asiign print statements\n",
    "print('For decision model depth level = 4:')\n",
    "print('RMSE :', tree_RMSE4)\n",
    "print('CrossVal scores :', tree_rmse_scores4)\n",
    "print('CrossV score mean:', tree_rmse_scores4.mean())\n",
    "print('CrossVal score standard deviation:', tree_rmse_scores4.std())\n",
    "print('CrossVal scores is higher than RMSE by:',tree_rmse_scores4.mean()-tree_RMSE4 )"
   ]
  },
  {
   "cell_type": "markdown",
   "metadata": {},
   "source": [
    "## Determining The Best model to work with:\n"
   ]
  },
  {
   "cell_type": "code",
   "execution_count": 49,
   "metadata": {},
   "outputs": [
    {
     "data": {
      "text/html": [
       "<div>\n",
       "<style scoped>\n",
       "    .dataframe tbody tr th:only-of-type {\n",
       "        vertical-align: middle;\n",
       "    }\n",
       "\n",
       "    .dataframe tbody tr th {\n",
       "        vertical-align: top;\n",
       "    }\n",
       "\n",
       "    .dataframe thead th {\n",
       "        text-align: right;\n",
       "    }\n",
       "</style>\n",
       "<table border=\"1\" class=\"dataframe\">\n",
       "  <thead>\n",
       "    <tr style=\"text-align: right;\">\n",
       "      <th></th>\n",
       "      <th>Linear_model</th>\n",
       "      <th>KNeigh_Regressor</th>\n",
       "      <th>Decision_Tree</th>\n",
       "    </tr>\n",
       "    <tr>\n",
       "      <th></th>\n",
       "      <th></th>\n",
       "      <th></th>\n",
       "      <th></th>\n",
       "    </tr>\n",
       "  </thead>\n",
       "  <tbody>\n",
       "    <tr>\n",
       "      <td>RMSE</td>\n",
       "      <td>0.755496</td>\n",
       "      <td>0.746498</td>\n",
       "      <td>0.733175</td>\n",
       "    </tr>\n",
       "    <tr>\n",
       "      <td>CV scores</td>\n",
       "      <td>0.758581</td>\n",
       "      <td>0.888053</td>\n",
       "      <td>0.771674</td>\n",
       "    </tr>\n",
       "  </tbody>\n",
       "</table>\n",
       "</div>"
      ],
      "text/plain": [
       "           Linear_model  KNeigh_Regressor  Decision_Tree\n",
       "                                                        \n",
       "RMSE           0.755496          0.746498       0.733175\n",
       "CV scores      0.758581          0.888053       0.771674"
      ]
     },
     "execution_count": 49,
     "metadata": {},
     "output_type": "execute_result"
    }
   ],
   "source": [
    "model_compare = {'':['RMSE ', 'CV scores'], 'Linear_model':[lin_rmse,lin_model_scores.mean()], 'KNeigh_Regressor':[neighbor_rmse3, neighbor_scores3cv.mean()], 'Decision_Tree':[tree_RMSE4, tree_rmse_scores4.mean()]}\n",
    "model_compare_df = pd.DataFrame(data = model_compare)\n",
    "model_compare_df.set_index('')"
   ]
  },
  {
   "cell_type": "markdown",
   "metadata": {},
   "source": [
    "### Observations(Most Suitable Model) :\n",
    "#### 1.Mean squared error in cross validation is higher than the rmse run in task 4 for all 3 models\n",
    "#### 2.Compared to RMSE, decision tree model performs little better than knearest neighbor regressor and linear model.\n",
    "#### 3.But when compared to mean squared error in cross validation test, linear model performs better than decision tree model. Kneighbor regressor performing worst.\n",
    "#### 4.Cross validation is a quite accurate approach for measuring the accuracy of model. Therefore now we are comparing between linear model and decision tree model. Since decision tree has been run with the lowest mean squared error depth of 4 with an error of 0.771674 in cross validation test, (shown at the above graph), we consider linear model (cv score 0.7585) the most suitable model in this scenario.\n",
    "#### 5.The less parameter linear model are less prone to overfitting. Yet in this case is more the problem of underfitting. Next step we would like to improve on the fitting of model.\n"
   ]
  },
  {
   "cell_type": "markdown",
   "metadata": {},
   "source": [
    "## Task 6 - Free choice\n",
    "#### In this section we can perform the following tasks\n",
    "##### - Try different models\n",
    "##### - Tune existing model with different parameters\n",
    "##### - Performance of best model on test data"
   ]
  },
  {
   "cell_type": "markdown",
   "metadata": {},
   "source": [
    "### Try Random Forrest Regressor Model "
   ]
  },
  {
   "cell_type": "code",
   "execution_count": 50,
   "metadata": {},
   "outputs": [
    {
     "name": "stderr",
     "output_type": "stream",
     "text": [
      "C:\\Users\\npath\\Anaconda3\\lib\\site-packages\\sklearn\\ensemble\\forest.py:245: FutureWarning: The default value of n_estimators will change from 10 in version 0.20 to 100 in 0.22.\n",
      "  \"10 in version 0.20 to 100 in 0.22.\", FutureWarning)\n"
     ]
    },
    {
     "name": "stdout",
     "output_type": "stream",
     "text": [
      "RMSE: 0.31693380374652375\n",
      "CV scores: [0.77930348 0.75003776 0.71030328 0.72923243 0.70644284 0.78629029\n",
      " 0.75143875 0.77915205 0.76969803 0.69457546]\n",
      "CV scores mean: 0.7456474372085959\n",
      "CV scores standard deviation: 0.03194117342304071\n"
     ]
    }
   ],
   "source": [
    "#import the random forrest model\n",
    "from sklearn.ensemble import RandomForestRegressor\n",
    "#assign a variable\n",
    "forest_reg = RandomForestRegressor()\n",
    "#fit the model\n",
    "forest_reg.fit(x_train, y_train)\n",
    "# do predictions\n",
    "forest_reg_yhat = forest_reg.predict(x_train)\n",
    "# find squareroot\n",
    "forest_rmse = sqrt(mean_squared_error(y_true = y_train, y_pred = forest_reg_yhat))\n",
    "#do cross validations\n",
    "forest_score = cross_val_score(forest_reg, x_train, y_train, scoring = 'neg_mean_squared_error', cv =10)\n",
    "#find squareroot\n",
    "forest_score_sqrt = np.sqrt(-forest_score)\n",
    "#assign print statements\n",
    "print('RMSE:', forest_rmse)\n",
    "print('CV scores:', forest_score_sqrt)\n",
    "print('CV scores mean:', forest_score_sqrt.mean())\n",
    "print('CV scores standard deviation:', forest_score_sqrt.std())"
   ]
  },
  {
   "cell_type": "code",
   "execution_count": 51,
   "metadata": {},
   "outputs": [],
   "source": [
    "#To find the best fit parameter GridSearch is used\n",
    "# import grid search\n",
    "from sklearn.model_selection import GridSearchCV\n",
    "# make parameters\n",
    "param_grid = {\n",
    "    'bootstrap': [True],\n",
    "    'max_depth': [80, 90, 100, 110],\n",
    "    'max_features': [2, 3],\n",
    "    'min_samples_leaf': [3, 4, 5],\n",
    "    'min_samples_split': [8, 10, 12],\n",
    "    'n_estimators': [100, 200, 300, 1000]\n",
    "}\n",
    "# Create a relevant  model\n",
    "grid_search = GridSearchCV(estimator = forest_reg, param_grid = param_grid,\n",
    "cv = 3, n_jobs = -1, verbose = 2)"
   ]
  },
  {
   "cell_type": "code",
   "execution_count": 52,
   "metadata": {
    "scrolled": true
   },
   "outputs": [
    {
     "name": "stdout",
     "output_type": "stream",
     "text": [
      "Fitting 3 folds for each of 288 candidates, totalling 864 fits\n"
     ]
    },
    {
     "name": "stderr",
     "output_type": "stream",
     "text": [
      "[Parallel(n_jobs=-1)]: Using backend LokyBackend with 12 concurrent workers.\n",
      "[Parallel(n_jobs=-1)]: Done  17 tasks      | elapsed:    4.7s\n",
      "[Parallel(n_jobs=-1)]: Done 138 tasks      | elapsed:   22.7s\n",
      "[Parallel(n_jobs=-1)]: Done 341 tasks      | elapsed:   52.6s\n",
      "[Parallel(n_jobs=-1)]: Done 624 tasks      | elapsed:  1.6min\n",
      "[Parallel(n_jobs=-1)]: Done 864 out of 864 | elapsed:  2.2min finished\n"
     ]
    },
    {
     "data": {
      "text/plain": [
       "{'bootstrap': True,\n",
       " 'max_depth': 100,\n",
       " 'max_features': 3,\n",
       " 'min_samples_leaf': 3,\n",
       " 'min_samples_split': 10,\n",
       " 'n_estimators': 200}"
      ]
     },
     "execution_count": 52,
     "metadata": {},
     "output_type": "execute_result"
    }
   ],
   "source": [
    "#fit the model\n",
    "grid_search.fit(x_train, y_train)\n",
    "#perform grid search\n",
    "grid_search.best_params_"
   ]
  },
  {
   "cell_type": "code",
   "execution_count": 53,
   "metadata": {},
   "outputs": [
    {
     "name": "stdout",
     "output_type": "stream",
     "text": [
      "RMSE: 0.31693380374652375\n",
      "CV scores: [0.73899181 0.71971432 0.69187989 0.68877334 0.6775557  0.75156927\n",
      " 0.70132764 0.70904501 0.72484665 0.68855665]\n",
      "CV scores mean: 0.709226028657772\n",
      "CV scores standard deviation: 0.022901550727414583\n"
     ]
    }
   ],
   "source": [
    "#call random forrest regressor\n",
    "forest_reg1 = RandomForestRegressor(bootstrap= True, max_depth=90, max_features=3, min_samples_leaf=3, min_samples_split=8, n_estimators=200)\n",
    "#fit the model\n",
    "forest_reg1.fit(x_train, y_train)\n",
    "# do predictions\n",
    "forest_reg_yhat1 = forest_reg.predict(x_train)\n",
    "#find square root\n",
    "forest_rmse1 = sqrt(mean_squared_error(y_true = y_train, y_pred = forest_reg_yhat1))\n",
    "#do cross validations\n",
    "forest_score1 = cross_val_score(forest_reg1, x_train, y_train, scoring = 'neg_mean_squared_error', cv =10)\n",
    "#find Squareroot\n",
    "forest_score_sqrt1 = np.sqrt(-forest_score1)\n",
    "#assign print statements\n",
    "print('RMSE:', forest_rmse1)\n",
    "print('CV scores:', forest_score_sqrt1)\n",
    "print('CV scores mean:', forest_score_sqrt1.mean())\n",
    "print('CV scores standard deviation:', forest_score_sqrt1.std())"
   ]
  },
  {
   "cell_type": "markdown",
   "metadata": {},
   "source": [
    "## Comparing Results"
   ]
  },
  {
   "cell_type": "code",
   "execution_count": 54,
   "metadata": {},
   "outputs": [
    {
     "data": {
      "text/html": [
       "<div>\n",
       "<style scoped>\n",
       "    .dataframe tbody tr th:only-of-type {\n",
       "        vertical-align: middle;\n",
       "    }\n",
       "\n",
       "    .dataframe tbody tr th {\n",
       "        vertical-align: top;\n",
       "    }\n",
       "\n",
       "    .dataframe thead th {\n",
       "        text-align: right;\n",
       "    }\n",
       "</style>\n",
       "<table border=\"1\" class=\"dataframe\">\n",
       "  <thead>\n",
       "    <tr style=\"text-align: right;\">\n",
       "      <th></th>\n",
       "      <th>Linear_model</th>\n",
       "      <th>KNeigh_Regressor</th>\n",
       "      <th>Decision_Tree</th>\n",
       "      <th>Forest_Regressor</th>\n",
       "    </tr>\n",
       "    <tr>\n",
       "      <th></th>\n",
       "      <th></th>\n",
       "      <th></th>\n",
       "      <th></th>\n",
       "      <th></th>\n",
       "    </tr>\n",
       "  </thead>\n",
       "  <tbody>\n",
       "    <tr>\n",
       "      <td>RMSE</td>\n",
       "      <td>0.755496</td>\n",
       "      <td>0.746498</td>\n",
       "      <td>0.733175</td>\n",
       "      <td>0.316934</td>\n",
       "    </tr>\n",
       "    <tr>\n",
       "      <td>CV scores</td>\n",
       "      <td>0.758581</td>\n",
       "      <td>0.888053</td>\n",
       "      <td>0.771674</td>\n",
       "      <td>0.709226</td>\n",
       "    </tr>\n",
       "  </tbody>\n",
       "</table>\n",
       "</div>"
      ],
      "text/plain": [
       "           Linear_model  KNeigh_Regressor  Decision_Tree  Forest_Regressor\n",
       "                                                                          \n",
       "RMSE           0.755496          0.746498       0.733175          0.316934\n",
       "CV scores      0.758581          0.888053       0.771674          0.709226"
      ]
     },
     "execution_count": 54,
     "metadata": {},
     "output_type": "execute_result"
    }
   ],
   "source": [
    "model_compare = {'':['RMSE ', 'CV scores'], 'Linear_model':[lin_rmse,lin_model_scores.mean()], 'KNeigh_Regressor':[neighbor_rmse3, neighbor_scores3cv.mean()], 'Decision_Tree':[tree_RMSE4, tree_rmse_scores4.mean()], 'Forest_Regressor':[forest_rmse1, forest_score_sqrt1.mean()]}\n",
    "model_compare_df = pd.DataFrame(data = model_compare)\n",
    "model_compare_df.set_index('')"
   ]
  },
  {
   "cell_type": "markdown",
   "metadata": {},
   "source": [
    "### Testing the best model"
   ]
  },
  {
   "cell_type": "code",
   "execution_count": 55,
   "metadata": {},
   "outputs": [
    {
     "name": "stdout",
     "output_type": "stream",
     "text": [
      "Testing the model on test set:\n",
      "RMSE: 0.7091829203440901\n",
      "CV scores: [0.61252424 0.70712738 0.71535027 0.87071872 0.65155835 0.65909924\n",
      " 0.64563997 0.7011548  0.80006853 0.62523195]\n",
      "CV scores mean: 0.698847344921347\n",
      "CV scores standard deviation: 0.07723329498324207\n"
     ]
    }
   ],
   "source": [
    "#Test the model with data test set\n",
    "forest_regt = RandomForestRegressor(bootstrap= True, max_depth=90, max_features=3, min_samples_leaf=3, min_samples_split=8, n_estimators=200)\n",
    "#fit the model\n",
    "forest_regt.fit(x_train, y_train)\n",
    "#do predictions\n",
    "forest_reg_yhatt = forest_reg.predict(x_test)\n",
    "#find squareroot\n",
    "forest_rmset = sqrt(mean_squared_error(y_true = y_test, y_pred = forest_reg_yhatt))\n",
    "#do cross validations\n",
    "forest_scoret = cross_val_score(forest_regt, x_test, y_test, scoring = 'neg_mean_squared_error', cv =10)\n",
    "#calculate squareroot\n",
    "forest_score_sqrtt = np.sqrt(-forest_scoret)\n",
    "#assign print statements\n",
    "print('Testing the model on test set:')\n",
    "print('RMSE:', forest_rmset)\n",
    "print('CV scores:', forest_score_sqrtt)\n",
    "print('CV scores mean:', forest_score_sqrtt.mean())\n",
    "print('CV scores standard deviation:', forest_score_sqrtt.std())"
   ]
  },
  {
   "cell_type": "code",
   "execution_count": 56,
   "metadata": {},
   "outputs": [
    {
     "name": "stdout",
     "output_type": "stream",
     "text": [
      "Compared with the baseline RMSE:\n",
      "Prediction performance with Random Forest Regressor has been improved by:29.08%\n",
      "\n",
      "Average absolute error on test set: 0.55\n",
      "\n",
      "Accuracy: 90.16 %.\n"
     ]
    }
   ],
   "source": [
    "#assign print statements\n",
    "print('Compared with the baseline RMSE:')\n",
    "#do required improvement with abs value function\n",
    "Perform_improvement = abs(forest_score_sqrt1.mean() - RMSE/RMSE)\n",
    "print(\"Prediction performance with Random Forest Regressor has been improved by:\"+\"{:.2%}\".format(Perform_improvement))\n",
    "print()\n",
    "#calculate errors\n",
    "errors = abs(forest_reg_yhatt - y_test)\n",
    "print('Average absolute error on test set:', round(np.mean(errors), 2))\n",
    "print()\n",
    "# Calculate mean absolute percentage error (MAPE)\n",
    "mape = 100 * (errors / y_test)\n",
    "# Calculate and display accuracy\n",
    "accuracy = 100 - np.mean(mape)\n",
    "print('Accuracy:', round(accuracy, 2), '%.')"
   ]
  },
  {
   "cell_type": "markdown",
   "metadata": {},
   "source": [
    "## Observations :\n",
    "#### Till now, the model gives the best performance in running the test set with 0.70 mean squared error in cross validation.\n",
    "#### Compared with other model in previous section - linear model, random forest regressor is improved by 9% reduction in mean squared error.\n",
    "#### Compared with pre-trained baseline RMSE, the model prediction performance has been improved by 29%.\n",
    "### Thus Random Forest Regressor is the best model."
   ]
  },
  {
   "cell_type": "code",
   "execution_count": null,
   "metadata": {},
   "outputs": [],
   "source": []
  }
 ],
 "metadata": {
  "kernelspec": {
   "display_name": "Python 3",
   "language": "python",
   "name": "python3"
  },
  "language_info": {
   "codemirror_mode": {
    "name": "ipython",
    "version": 3
   },
   "file_extension": ".py",
   "mimetype": "text/x-python",
   "name": "python",
   "nbconvert_exporter": "python",
   "pygments_lexer": "ipython3",
   "version": "3.7.7"
  }
 },
 "nbformat": 4,
 "nbformat_minor": 2
}
